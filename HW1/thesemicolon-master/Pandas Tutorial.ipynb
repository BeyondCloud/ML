{
 "cells": [
  {
   "cell_type": "code",
   "execution_count": 2,
   "metadata": {
    "collapsed": true
   },
   "outputs": [],
   "source": [
    "import pandas as pd\n",
    "import numpy as np\n",
    "import matplotlib.pyplot as plt"
   ]
  },
  {
   "cell_type": "code",
   "execution_count": 3,
   "metadata": {
    "collapsed": false
   },
   "outputs": [
    {
     "name": "stdout",
     "output_type": "stream",
     "text": [
      "          A         B         C         D\n",
      "0  0.102454  0.139561  0.490001  0.289439\n",
      "1  0.739372  0.162569  0.736861  0.886433\n",
      "2  0.179713  0.170808  0.574941  0.905928\n",
      "3  0.649131  0.648959  0.274680  0.924983\n",
      "4  0.428723  0.455792  0.036877  0.685302\n",
      "5  0.929501  0.493062  0.742956  0.642247\n",
      "6  0.843321  0.580487  0.072171  0.141258\n",
      "7  0.211289  0.775496  0.018673  0.528183\n",
      "8  0.948203  0.049206  0.770176  0.622358\n",
      "9  0.274365  0.453129  0.056957  0.461790\n"
     ]
    }
   ],
   "source": [
    "#creating a dataframe\n",
    "df=pd.DataFrame(np.random.rand(10,4),columns=['A','B','C','D'])\n",
    "print df"
   ]
  },
  {
   "cell_type": "code",
   "execution_count": 4,
   "metadata": {
    "collapsed": false
   },
   "outputs": [
    {
     "name": "stdout",
     "output_type": "stream",
     "text": [
      "    A    B   C   D\n",
      "0  10   20  30  40\n",
      "1  20  100  40  50\n"
     ]
    }
   ],
   "source": [
    "#creating a dataframe with dictionary\n",
    "df2 = pd.DataFrame({'A' : [10,20],'B' : [20,100],'C' : [30,40],'D' : [40,50]})\n",
    "print df2"
   ]
  },
  {
   "cell_type": "code",
   "execution_count": 5,
   "metadata": {
    "collapsed": false
   },
   "outputs": [
    {
     "data": {
      "text/plain": [
       "A    int64\n",
       "B    int64\n",
       "C    int64\n",
       "D    int64\n",
       "dtype: object"
      ]
     },
     "execution_count": 5,
     "metadata": {},
     "output_type": "execute_result"
    }
   ],
   "source": [
    "#looking at the variable types\n",
    "df2.dtypes"
   ]
  },
  {
   "cell_type": "code",
   "execution_count": 6,
   "metadata": {
    "collapsed": false
   },
   "outputs": [
    {
     "data": {
      "text/html": [
       "<div>\n",
       "<table border=\"1\" class=\"dataframe\">\n",
       "  <thead>\n",
       "    <tr style=\"text-align: right;\">\n",
       "      <th></th>\n",
       "      <th>A</th>\n",
       "      <th>B</th>\n",
       "      <th>C</th>\n",
       "      <th>D</th>\n",
       "    </tr>\n",
       "  </thead>\n",
       "  <tbody>\n",
       "    <tr>\n",
       "      <th>0</th>\n",
       "      <td>0.102454</td>\n",
       "      <td>0.139561</td>\n",
       "      <td>0.490001</td>\n",
       "      <td>0.289439</td>\n",
       "    </tr>\n",
       "    <tr>\n",
       "      <th>1</th>\n",
       "      <td>0.739372</td>\n",
       "      <td>0.162569</td>\n",
       "      <td>0.736861</td>\n",
       "      <td>0.886433</td>\n",
       "    </tr>\n",
       "    <tr>\n",
       "      <th>2</th>\n",
       "      <td>0.179713</td>\n",
       "      <td>0.170808</td>\n",
       "      <td>0.574941</td>\n",
       "      <td>0.905928</td>\n",
       "    </tr>\n",
       "    <tr>\n",
       "      <th>3</th>\n",
       "      <td>0.649131</td>\n",
       "      <td>0.648959</td>\n",
       "      <td>0.274680</td>\n",
       "      <td>0.924983</td>\n",
       "    </tr>\n",
       "    <tr>\n",
       "      <th>4</th>\n",
       "      <td>0.428723</td>\n",
       "      <td>0.455792</td>\n",
       "      <td>0.036877</td>\n",
       "      <td>0.685302</td>\n",
       "    </tr>\n",
       "  </tbody>\n",
       "</table>\n",
       "</div>"
      ],
      "text/plain": [
       "          A         B         C         D\n",
       "0  0.102454  0.139561  0.490001  0.289439\n",
       "1  0.739372  0.162569  0.736861  0.886433\n",
       "2  0.179713  0.170808  0.574941  0.905928\n",
       "3  0.649131  0.648959  0.274680  0.924983\n",
       "4  0.428723  0.455792  0.036877  0.685302"
      ]
     },
     "execution_count": 6,
     "metadata": {},
     "output_type": "execute_result"
    }
   ],
   "source": [
    "#looking at the top few values, default 5\n",
    "df.head()"
   ]
  },
  {
   "cell_type": "code",
   "execution_count": 7,
   "metadata": {
    "collapsed": false
   },
   "outputs": [
    {
     "data": {
      "text/html": [
       "<div>\n",
       "<table border=\"1\" class=\"dataframe\">\n",
       "  <thead>\n",
       "    <tr style=\"text-align: right;\">\n",
       "      <th></th>\n",
       "      <th>A</th>\n",
       "      <th>B</th>\n",
       "      <th>C</th>\n",
       "      <th>D</th>\n",
       "    </tr>\n",
       "  </thead>\n",
       "  <tbody>\n",
       "    <tr>\n",
       "      <th>5</th>\n",
       "      <td>0.929501</td>\n",
       "      <td>0.493062</td>\n",
       "      <td>0.742956</td>\n",
       "      <td>0.642247</td>\n",
       "    </tr>\n",
       "    <tr>\n",
       "      <th>6</th>\n",
       "      <td>0.843321</td>\n",
       "      <td>0.580487</td>\n",
       "      <td>0.072171</td>\n",
       "      <td>0.141258</td>\n",
       "    </tr>\n",
       "    <tr>\n",
       "      <th>7</th>\n",
       "      <td>0.211289</td>\n",
       "      <td>0.775496</td>\n",
       "      <td>0.018673</td>\n",
       "      <td>0.528183</td>\n",
       "    </tr>\n",
       "    <tr>\n",
       "      <th>8</th>\n",
       "      <td>0.948203</td>\n",
       "      <td>0.049206</td>\n",
       "      <td>0.770176</td>\n",
       "      <td>0.622358</td>\n",
       "    </tr>\n",
       "    <tr>\n",
       "      <th>9</th>\n",
       "      <td>0.274365</td>\n",
       "      <td>0.453129</td>\n",
       "      <td>0.056957</td>\n",
       "      <td>0.461790</td>\n",
       "    </tr>\n",
       "  </tbody>\n",
       "</table>\n",
       "</div>"
      ],
      "text/plain": [
       "          A         B         C         D\n",
       "5  0.929501  0.493062  0.742956  0.642247\n",
       "6  0.843321  0.580487  0.072171  0.141258\n",
       "7  0.211289  0.775496  0.018673  0.528183\n",
       "8  0.948203  0.049206  0.770176  0.622358\n",
       "9  0.274365  0.453129  0.056957  0.461790"
      ]
     },
     "execution_count": 7,
     "metadata": {},
     "output_type": "execute_result"
    }
   ],
   "source": [
    "#looking at the last few values\n",
    "df.tail()"
   ]
  },
  {
   "cell_type": "code",
   "execution_count": 8,
   "metadata": {
    "collapsed": false
   },
   "outputs": [
    {
     "data": {
      "text/plain": [
       "RangeIndex(start=0, stop=10, step=1)"
      ]
     },
     "execution_count": 8,
     "metadata": {},
     "output_type": "execute_result"
    }
   ],
   "source": [
    "#to get the indexes\n",
    "df.index"
   ]
  },
  {
   "cell_type": "code",
   "execution_count": 9,
   "metadata": {
    "collapsed": false
   },
   "outputs": [
    {
     "data": {
      "text/plain": [
       "Index([u'A', u'B', u'C', u'D'], dtype='object')"
      ]
     },
     "execution_count": 9,
     "metadata": {},
     "output_type": "execute_result"
    }
   ],
   "source": [
    "#to get the column names\n",
    "df.columns"
   ]
  },
  {
   "cell_type": "code",
   "execution_count": 10,
   "metadata": {
    "collapsed": false
   },
   "outputs": [
    {
     "data": {
      "text/plain": [
       "array([[ 0.10245417,  0.13956117,  0.49000128,  0.28943866],\n",
       "       [ 0.73937153,  0.16256885,  0.73686086,  0.88643264],\n",
       "       [ 0.17971347,  0.17080766,  0.5749413 ,  0.90592751],\n",
       "       [ 0.64913051,  0.64895926,  0.27467988,  0.92498326],\n",
       "       [ 0.42872318,  0.45579167,  0.03687682,  0.68530218],\n",
       "       [ 0.92950093,  0.49306195,  0.74295555,  0.64224659],\n",
       "       [ 0.84332136,  0.58048737,  0.07217135,  0.14125753],\n",
       "       [ 0.21128903,  0.77549633,  0.0186726 ,  0.52818312],\n",
       "       [ 0.94820265,  0.04920571,  0.77017644,  0.6223582 ],\n",
       "       [ 0.27436511,  0.45312917,  0.0569569 ,  0.46178954]])"
      ]
     },
     "execution_count": 10,
     "metadata": {},
     "output_type": "execute_result"
    }
   ],
   "source": [
    "#to get the values\n",
    "df.values"
   ]
  },
  {
   "cell_type": "code",
   "execution_count": 11,
   "metadata": {
    "collapsed": false
   },
   "outputs": [
    {
     "data": {
      "text/html": [
       "<div>\n",
       "<table border=\"1\" class=\"dataframe\">\n",
       "  <thead>\n",
       "    <tr style=\"text-align: right;\">\n",
       "      <th></th>\n",
       "      <th>A</th>\n",
       "      <th>B</th>\n",
       "      <th>C</th>\n",
       "      <th>D</th>\n",
       "    </tr>\n",
       "  </thead>\n",
       "  <tbody>\n",
       "    <tr>\n",
       "      <th>count</th>\n",
       "      <td>10.000000</td>\n",
       "      <td>10.000000</td>\n",
       "      <td>10.000000</td>\n",
       "      <td>10.000000</td>\n",
       "    </tr>\n",
       "    <tr>\n",
       "      <th>mean</th>\n",
       "      <td>0.530607</td>\n",
       "      <td>0.392907</td>\n",
       "      <td>0.377429</td>\n",
       "      <td>0.608792</td>\n",
       "    </tr>\n",
       "    <tr>\n",
       "      <th>std</th>\n",
       "      <td>0.328865</td>\n",
       "      <td>0.247079</td>\n",
       "      <td>0.319698</td>\n",
       "      <td>0.262719</td>\n",
       "    </tr>\n",
       "    <tr>\n",
       "      <th>min</th>\n",
       "      <td>0.102454</td>\n",
       "      <td>0.049206</td>\n",
       "      <td>0.018673</td>\n",
       "      <td>0.141258</td>\n",
       "    </tr>\n",
       "    <tr>\n",
       "      <th>25%</th>\n",
       "      <td>0.227058</td>\n",
       "      <td>0.164629</td>\n",
       "      <td>0.060761</td>\n",
       "      <td>0.478388</td>\n",
       "    </tr>\n",
       "    <tr>\n",
       "      <th>50%</th>\n",
       "      <td>0.538927</td>\n",
       "      <td>0.454460</td>\n",
       "      <td>0.382341</td>\n",
       "      <td>0.632302</td>\n",
       "    </tr>\n",
       "    <tr>\n",
       "      <th>75%</th>\n",
       "      <td>0.817334</td>\n",
       "      <td>0.558631</td>\n",
       "      <td>0.696381</td>\n",
       "      <td>0.836150</td>\n",
       "    </tr>\n",
       "    <tr>\n",
       "      <th>max</th>\n",
       "      <td>0.948203</td>\n",
       "      <td>0.775496</td>\n",
       "      <td>0.770176</td>\n",
       "      <td>0.924983</td>\n",
       "    </tr>\n",
       "  </tbody>\n",
       "</table>\n",
       "</div>"
      ],
      "text/plain": [
       "               A          B          C          D\n",
       "count  10.000000  10.000000  10.000000  10.000000\n",
       "mean    0.530607   0.392907   0.377429   0.608792\n",
       "std     0.328865   0.247079   0.319698   0.262719\n",
       "min     0.102454   0.049206   0.018673   0.141258\n",
       "25%     0.227058   0.164629   0.060761   0.478388\n",
       "50%     0.538927   0.454460   0.382341   0.632302\n",
       "75%     0.817334   0.558631   0.696381   0.836150\n",
       "max     0.948203   0.775496   0.770176   0.924983"
      ]
     },
     "execution_count": 11,
     "metadata": {},
     "output_type": "execute_result"
    }
   ],
   "source": [
    "#to get quick statistics about the data\n",
    "df.describe()"
   ]
  },
  {
   "cell_type": "code",
   "execution_count": 12,
   "metadata": {
    "collapsed": false
   },
   "outputs": [
    {
     "data": {
      "text/html": [
       "<div>\n",
       "<table border=\"1\" class=\"dataframe\">\n",
       "  <thead>\n",
       "    <tr style=\"text-align: right;\">\n",
       "      <th></th>\n",
       "      <th>A</th>\n",
       "      <th>B</th>\n",
       "      <th>C</th>\n",
       "      <th>D</th>\n",
       "    </tr>\n",
       "  </thead>\n",
       "  <tbody>\n",
       "    <tr>\n",
       "      <th>9</th>\n",
       "      <td>0.274365</td>\n",
       "      <td>0.453129</td>\n",
       "      <td>0.056957</td>\n",
       "      <td>0.461790</td>\n",
       "    </tr>\n",
       "    <tr>\n",
       "      <th>8</th>\n",
       "      <td>0.948203</td>\n",
       "      <td>0.049206</td>\n",
       "      <td>0.770176</td>\n",
       "      <td>0.622358</td>\n",
       "    </tr>\n",
       "    <tr>\n",
       "      <th>7</th>\n",
       "      <td>0.211289</td>\n",
       "      <td>0.775496</td>\n",
       "      <td>0.018673</td>\n",
       "      <td>0.528183</td>\n",
       "    </tr>\n",
       "    <tr>\n",
       "      <th>6</th>\n",
       "      <td>0.843321</td>\n",
       "      <td>0.580487</td>\n",
       "      <td>0.072171</td>\n",
       "      <td>0.141258</td>\n",
       "    </tr>\n",
       "    <tr>\n",
       "      <th>5</th>\n",
       "      <td>0.929501</td>\n",
       "      <td>0.493062</td>\n",
       "      <td>0.742956</td>\n",
       "      <td>0.642247</td>\n",
       "    </tr>\n",
       "    <tr>\n",
       "      <th>4</th>\n",
       "      <td>0.428723</td>\n",
       "      <td>0.455792</td>\n",
       "      <td>0.036877</td>\n",
       "      <td>0.685302</td>\n",
       "    </tr>\n",
       "    <tr>\n",
       "      <th>3</th>\n",
       "      <td>0.649131</td>\n",
       "      <td>0.648959</td>\n",
       "      <td>0.274680</td>\n",
       "      <td>0.924983</td>\n",
       "    </tr>\n",
       "    <tr>\n",
       "      <th>2</th>\n",
       "      <td>0.179713</td>\n",
       "      <td>0.170808</td>\n",
       "      <td>0.574941</td>\n",
       "      <td>0.905928</td>\n",
       "    </tr>\n",
       "    <tr>\n",
       "      <th>1</th>\n",
       "      <td>0.739372</td>\n",
       "      <td>0.162569</td>\n",
       "      <td>0.736861</td>\n",
       "      <td>0.886433</td>\n",
       "    </tr>\n",
       "    <tr>\n",
       "      <th>0</th>\n",
       "      <td>0.102454</td>\n",
       "      <td>0.139561</td>\n",
       "      <td>0.490001</td>\n",
       "      <td>0.289439</td>\n",
       "    </tr>\n",
       "  </tbody>\n",
       "</table>\n",
       "</div>"
      ],
      "text/plain": [
       "          A         B         C         D\n",
       "9  0.274365  0.453129  0.056957  0.461790\n",
       "8  0.948203  0.049206  0.770176  0.622358\n",
       "7  0.211289  0.775496  0.018673  0.528183\n",
       "6  0.843321  0.580487  0.072171  0.141258\n",
       "5  0.929501  0.493062  0.742956  0.642247\n",
       "4  0.428723  0.455792  0.036877  0.685302\n",
       "3  0.649131  0.648959  0.274680  0.924983\n",
       "2  0.179713  0.170808  0.574941  0.905928\n",
       "1  0.739372  0.162569  0.736861  0.886433\n",
       "0  0.102454  0.139561  0.490001  0.289439"
      ]
     },
     "execution_count": 12,
     "metadata": {},
     "output_type": "execute_result"
    }
   ],
   "source": [
    "# for sorting the index\n",
    "df.sort_index(axis=0, ascending=False)"
   ]
  },
  {
   "cell_type": "code",
   "execution_count": 13,
   "metadata": {
    "collapsed": false
   },
   "outputs": [
    {
     "data": {
      "text/html": [
       "<div>\n",
       "<table border=\"1\" class=\"dataframe\">\n",
       "  <thead>\n",
       "    <tr style=\"text-align: right;\">\n",
       "      <th></th>\n",
       "      <th>A</th>\n",
       "      <th>B</th>\n",
       "      <th>C</th>\n",
       "      <th>D</th>\n",
       "    </tr>\n",
       "  </thead>\n",
       "  <tbody>\n",
       "    <tr>\n",
       "      <th>0</th>\n",
       "      <td>0.102454</td>\n",
       "      <td>0.139561</td>\n",
       "      <td>0.490001</td>\n",
       "      <td>0.289439</td>\n",
       "    </tr>\n",
       "    <tr>\n",
       "      <th>2</th>\n",
       "      <td>0.179713</td>\n",
       "      <td>0.170808</td>\n",
       "      <td>0.574941</td>\n",
       "      <td>0.905928</td>\n",
       "    </tr>\n",
       "    <tr>\n",
       "      <th>7</th>\n",
       "      <td>0.211289</td>\n",
       "      <td>0.775496</td>\n",
       "      <td>0.018673</td>\n",
       "      <td>0.528183</td>\n",
       "    </tr>\n",
       "    <tr>\n",
       "      <th>9</th>\n",
       "      <td>0.274365</td>\n",
       "      <td>0.453129</td>\n",
       "      <td>0.056957</td>\n",
       "      <td>0.461790</td>\n",
       "    </tr>\n",
       "    <tr>\n",
       "      <th>4</th>\n",
       "      <td>0.428723</td>\n",
       "      <td>0.455792</td>\n",
       "      <td>0.036877</td>\n",
       "      <td>0.685302</td>\n",
       "    </tr>\n",
       "    <tr>\n",
       "      <th>3</th>\n",
       "      <td>0.649131</td>\n",
       "      <td>0.648959</td>\n",
       "      <td>0.274680</td>\n",
       "      <td>0.924983</td>\n",
       "    </tr>\n",
       "    <tr>\n",
       "      <th>1</th>\n",
       "      <td>0.739372</td>\n",
       "      <td>0.162569</td>\n",
       "      <td>0.736861</td>\n",
       "      <td>0.886433</td>\n",
       "    </tr>\n",
       "    <tr>\n",
       "      <th>6</th>\n",
       "      <td>0.843321</td>\n",
       "      <td>0.580487</td>\n",
       "      <td>0.072171</td>\n",
       "      <td>0.141258</td>\n",
       "    </tr>\n",
       "    <tr>\n",
       "      <th>5</th>\n",
       "      <td>0.929501</td>\n",
       "      <td>0.493062</td>\n",
       "      <td>0.742956</td>\n",
       "      <td>0.642247</td>\n",
       "    </tr>\n",
       "    <tr>\n",
       "      <th>8</th>\n",
       "      <td>0.948203</td>\n",
       "      <td>0.049206</td>\n",
       "      <td>0.770176</td>\n",
       "      <td>0.622358</td>\n",
       "    </tr>\n",
       "  </tbody>\n",
       "</table>\n",
       "</div>"
      ],
      "text/plain": [
       "          A         B         C         D\n",
       "0  0.102454  0.139561  0.490001  0.289439\n",
       "2  0.179713  0.170808  0.574941  0.905928\n",
       "7  0.211289  0.775496  0.018673  0.528183\n",
       "9  0.274365  0.453129  0.056957  0.461790\n",
       "4  0.428723  0.455792  0.036877  0.685302\n",
       "3  0.649131  0.648959  0.274680  0.924983\n",
       "1  0.739372  0.162569  0.736861  0.886433\n",
       "6  0.843321  0.580487  0.072171  0.141258\n",
       "5  0.929501  0.493062  0.742956  0.642247\n",
       "8  0.948203  0.049206  0.770176  0.622358"
      ]
     },
     "execution_count": 13,
     "metadata": {},
     "output_type": "execute_result"
    }
   ],
   "source": [
    "#for sorting by a column\n",
    "df.sort_values(by='A')"
   ]
  },
  {
   "cell_type": "markdown",
   "metadata": {},
   "source": [
    "# Selecting Values\n"
   ]
  },
  {
   "cell_type": "code",
   "execution_count": 14,
   "metadata": {
    "collapsed": false
   },
   "outputs": [
    {
     "data": {
      "text/plain": [
       "0    0.102454\n",
       "1    0.739372\n",
       "2    0.179713\n",
       "3    0.649131\n",
       "4    0.428723\n",
       "5    0.929501\n",
       "6    0.843321\n",
       "7    0.211289\n",
       "8    0.948203\n",
       "9    0.274365\n",
       "Name: A, dtype: float64"
      ]
     },
     "execution_count": 14,
     "metadata": {},
     "output_type": "execute_result"
    }
   ],
   "source": [
    "# selecting columns\n",
    "df['A']"
   ]
  },
  {
   "cell_type": "code",
   "execution_count": 15,
   "metadata": {
    "collapsed": false
   },
   "outputs": [
    {
     "data": {
      "text/html": [
       "<div>\n",
       "<table border=\"1\" class=\"dataframe\">\n",
       "  <thead>\n",
       "    <tr style=\"text-align: right;\">\n",
       "      <th></th>\n",
       "      <th>A</th>\n",
       "      <th>B</th>\n",
       "      <th>C</th>\n",
       "      <th>D</th>\n",
       "    </tr>\n",
       "  </thead>\n",
       "  <tbody>\n",
       "    <tr>\n",
       "      <th>0</th>\n",
       "      <td>0.102454</td>\n",
       "      <td>0.139561</td>\n",
       "      <td>0.490001</td>\n",
       "      <td>0.289439</td>\n",
       "    </tr>\n",
       "    <tr>\n",
       "      <th>1</th>\n",
       "      <td>0.739372</td>\n",
       "      <td>0.162569</td>\n",
       "      <td>0.736861</td>\n",
       "      <td>0.886433</td>\n",
       "    </tr>\n",
       "  </tbody>\n",
       "</table>\n",
       "</div>"
      ],
      "text/plain": [
       "          A         B         C         D\n",
       "0  0.102454  0.139561  0.490001  0.289439\n",
       "1  0.739372  0.162569  0.736861  0.886433"
      ]
     },
     "execution_count": 15,
     "metadata": {},
     "output_type": "execute_result"
    }
   ],
   "source": [
    "#selecting range of rows\n",
    "df[0:2]"
   ]
  },
  {
   "cell_type": "code",
   "execution_count": 16,
   "metadata": {
    "collapsed": false
   },
   "outputs": [
    {
     "data": {
      "text/plain": [
       "A    0.102454\n",
       "B    0.139561\n",
       "C    0.490001\n",
       "D    0.289439\n",
       "Name: 0, dtype: float64"
      ]
     },
     "execution_count": 16,
     "metadata": {},
     "output_type": "execute_result"
    }
   ],
   "source": [
    "#selecting a particular row\n",
    "df.loc[0]"
   ]
  },
  {
   "cell_type": "code",
   "execution_count": 17,
   "metadata": {
    "collapsed": false
   },
   "outputs": [
    {
     "data": {
      "text/plain": [
       "A    0.102454\n",
       "Name: 0, dtype: float64"
      ]
     },
     "execution_count": 17,
     "metadata": {},
     "output_type": "execute_result"
    }
   ],
   "source": [
    "#selecting a row and column\n",
    "df.loc[0,['A']]"
   ]
  },
  {
   "cell_type": "code",
   "execution_count": 18,
   "metadata": {
    "collapsed": false
   },
   "outputs": [
    {
     "data": {
      "text/html": [
       "<div>\n",
       "<table border=\"1\" class=\"dataframe\">\n",
       "  <thead>\n",
       "    <tr style=\"text-align: right;\">\n",
       "      <th></th>\n",
       "      <th>A</th>\n",
       "    </tr>\n",
       "  </thead>\n",
       "  <tbody>\n",
       "    <tr>\n",
       "      <th>0</th>\n",
       "      <td>0.102454</td>\n",
       "    </tr>\n",
       "    <tr>\n",
       "      <th>1</th>\n",
       "      <td>0.739372</td>\n",
       "    </tr>\n",
       "    <tr>\n",
       "      <th>2</th>\n",
       "      <td>0.179713</td>\n",
       "    </tr>\n",
       "    <tr>\n",
       "      <th>3</th>\n",
       "      <td>0.649131</td>\n",
       "    </tr>\n",
       "    <tr>\n",
       "      <th>4</th>\n",
       "      <td>0.428723</td>\n",
       "    </tr>\n",
       "    <tr>\n",
       "      <th>5</th>\n",
       "      <td>0.929501</td>\n",
       "    </tr>\n",
       "    <tr>\n",
       "      <th>6</th>\n",
       "      <td>0.843321</td>\n",
       "    </tr>\n",
       "    <tr>\n",
       "      <th>7</th>\n",
       "      <td>0.211289</td>\n",
       "    </tr>\n",
       "    <tr>\n",
       "      <th>8</th>\n",
       "      <td>0.948203</td>\n",
       "    </tr>\n",
       "    <tr>\n",
       "      <th>9</th>\n",
       "      <td>0.274365</td>\n",
       "    </tr>\n",
       "  </tbody>\n",
       "</table>\n",
       "</div>"
      ],
      "text/plain": [
       "          A\n",
       "0  0.102454\n",
       "1  0.739372\n",
       "2  0.179713\n",
       "3  0.649131\n",
       "4  0.428723\n",
       "5  0.929501\n",
       "6  0.843321\n",
       "7  0.211289\n",
       "8  0.948203\n",
       "9  0.274365"
      ]
     },
     "execution_count": 18,
     "metadata": {},
     "output_type": "execute_result"
    }
   ],
   "source": [
    "df.loc[:,['A']]"
   ]
  },
  {
   "cell_type": "code",
   "execution_count": 19,
   "metadata": {
    "collapsed": false
   },
   "outputs": [
    {
     "data": {
      "text/plain": [
       "0.10245417490053488"
      ]
     },
     "execution_count": 19,
     "metadata": {},
     "output_type": "execute_result"
    }
   ],
   "source": [
    "#using at instead for faster access , can't be used for a range\n",
    "df.at[0,'A']"
   ]
  },
  {
   "cell_type": "code",
   "execution_count": 20,
   "metadata": {
    "collapsed": false
   },
   "outputs": [
    {
     "data": {
      "text/plain": [
       "A    0.102454\n",
       "B    0.139561\n",
       "C    0.490001\n",
       "D    0.289439\n",
       "Name: 0, dtype: float64"
      ]
     },
     "execution_count": 20,
     "metadata": {},
     "output_type": "execute_result"
    }
   ],
   "source": [
    "#selecting by posion \n",
    "df.iloc[0]"
   ]
  },
  {
   "cell_type": "code",
   "execution_count": 21,
   "metadata": {
    "collapsed": false
   },
   "outputs": [
    {
     "data": {
      "text/html": [
       "<div>\n",
       "<table border=\"1\" class=\"dataframe\">\n",
       "  <thead>\n",
       "    <tr style=\"text-align: right;\">\n",
       "      <th></th>\n",
       "      <th>A</th>\n",
       "      <th>B</th>\n",
       "      <th>C</th>\n",
       "      <th>D</th>\n",
       "    </tr>\n",
       "  </thead>\n",
       "  <tbody>\n",
       "    <tr>\n",
       "      <th>0</th>\n",
       "      <td>0.102454</td>\n",
       "      <td>0.139561</td>\n",
       "      <td>0.490001</td>\n",
       "      <td>0.289439</td>\n",
       "    </tr>\n",
       "    <tr>\n",
       "      <th>1</th>\n",
       "      <td>0.739372</td>\n",
       "      <td>0.162569</td>\n",
       "      <td>0.736861</td>\n",
       "      <td>0.886433</td>\n",
       "    </tr>\n",
       "    <tr>\n",
       "      <th>2</th>\n",
       "      <td>0.179713</td>\n",
       "      <td>0.170808</td>\n",
       "      <td>0.574941</td>\n",
       "      <td>0.905928</td>\n",
       "    </tr>\n",
       "    <tr>\n",
       "      <th>3</th>\n",
       "      <td>0.649131</td>\n",
       "      <td>0.648959</td>\n",
       "      <td>0.274680</td>\n",
       "      <td>0.924983</td>\n",
       "    </tr>\n",
       "    <tr>\n",
       "      <th>4</th>\n",
       "      <td>0.428723</td>\n",
       "      <td>0.455792</td>\n",
       "      <td>0.036877</td>\n",
       "      <td>0.685302</td>\n",
       "    </tr>\n",
       "    <tr>\n",
       "      <th>5</th>\n",
       "      <td>0.929501</td>\n",
       "      <td>0.493062</td>\n",
       "      <td>0.742956</td>\n",
       "      <td>0.642247</td>\n",
       "    </tr>\n",
       "    <tr>\n",
       "      <th>6</th>\n",
       "      <td>0.843321</td>\n",
       "      <td>0.580487</td>\n",
       "      <td>0.072171</td>\n",
       "      <td>0.141258</td>\n",
       "    </tr>\n",
       "    <tr>\n",
       "      <th>7</th>\n",
       "      <td>0.211289</td>\n",
       "      <td>0.775496</td>\n",
       "      <td>0.018673</td>\n",
       "      <td>0.528183</td>\n",
       "    </tr>\n",
       "    <tr>\n",
       "      <th>8</th>\n",
       "      <td>0.948203</td>\n",
       "      <td>0.049206</td>\n",
       "      <td>0.770176</td>\n",
       "      <td>0.622358</td>\n",
       "    </tr>\n",
       "    <tr>\n",
       "      <th>9</th>\n",
       "      <td>0.274365</td>\n",
       "      <td>0.453129</td>\n",
       "      <td>0.056957</td>\n",
       "      <td>0.461790</td>\n",
       "    </tr>\n",
       "  </tbody>\n",
       "</table>\n",
       "</div>"
      ],
      "text/plain": [
       "          A         B         C         D\n",
       "0  0.102454  0.139561  0.490001  0.289439\n",
       "1  0.739372  0.162569  0.736861  0.886433\n",
       "2  0.179713  0.170808  0.574941  0.905928\n",
       "3  0.649131  0.648959  0.274680  0.924983\n",
       "4  0.428723  0.455792  0.036877  0.685302\n",
       "5  0.929501  0.493062  0.742956  0.642247\n",
       "6  0.843321  0.580487  0.072171  0.141258\n",
       "7  0.211289  0.775496  0.018673  0.528183\n",
       "8  0.948203  0.049206  0.770176  0.622358\n",
       "9  0.274365  0.453129  0.056957  0.461790"
      ]
     },
     "execution_count": 21,
     "metadata": {},
     "output_type": "execute_result"
    }
   ],
   "source": [
    "#selecting by condition \n",
    "df[df.A>0]"
   ]
  },
  {
   "cell_type": "markdown",
   "metadata": {},
   "source": [
    "# Missing Data"
   ]
  },
  {
   "cell_type": "code",
   "execution_count": 22,
   "metadata": {
    "collapsed": false
   },
   "outputs": [
    {
     "name": "stdout",
     "output_type": "stream",
     "text": [
      "          A         B         C         D\n",
      "0  0.102454  0.139561  0.490001  0.289439\n",
      "1       NaN  0.162569       NaN       NaN\n",
      "2  0.179713  0.170808       NaN       NaN\n",
      "3       NaN       NaN  0.274680       NaN\n",
      "4  0.428723  0.455792  0.036877       NaN\n",
      "5       NaN  0.493062       NaN       NaN\n",
      "6       NaN       NaN  0.072171  0.141258\n",
      "7  0.211289       NaN  0.018673       NaN\n",
      "8       NaN  0.049206       NaN       NaN\n",
      "9  0.274365  0.453129  0.056957  0.461790\n"
     ]
    }
   ],
   "source": [
    "df2=df[df<.5]\n",
    "print df2"
   ]
  },
  {
   "cell_type": "code",
   "execution_count": 23,
   "metadata": {
    "collapsed": false
   },
   "outputs": [
    {
     "data": {
      "text/html": [
       "<div>\n",
       "<table border=\"1\" class=\"dataframe\">\n",
       "  <thead>\n",
       "    <tr style=\"text-align: right;\">\n",
       "      <th></th>\n",
       "      <th>A</th>\n",
       "      <th>B</th>\n",
       "      <th>C</th>\n",
       "      <th>D</th>\n",
       "    </tr>\n",
       "  </thead>\n",
       "  <tbody>\n",
       "    <tr>\n",
       "      <th>0</th>\n",
       "      <td>0.102454</td>\n",
       "      <td>0.139561</td>\n",
       "      <td>0.490001</td>\n",
       "      <td>0.289439</td>\n",
       "    </tr>\n",
       "    <tr>\n",
       "      <th>9</th>\n",
       "      <td>0.274365</td>\n",
       "      <td>0.453129</td>\n",
       "      <td>0.056957</td>\n",
       "      <td>0.461790</td>\n",
       "    </tr>\n",
       "  </tbody>\n",
       "</table>\n",
       "</div>"
      ],
      "text/plain": [
       "          A         B         C         D\n",
       "0  0.102454  0.139561  0.490001  0.289439\n",
       "9  0.274365  0.453129  0.056957  0.461790"
      ]
     },
     "execution_count": 23,
     "metadata": {},
     "output_type": "execute_result"
    }
   ],
   "source": [
    "#drop all rows which have NaN\n",
    "df2.dropna()"
   ]
  },
  {
   "cell_type": "code",
   "execution_count": 24,
   "metadata": {
    "collapsed": false
   },
   "outputs": [
    {
     "data": {
      "text/html": [
       "<div>\n",
       "<table border=\"1\" class=\"dataframe\">\n",
       "  <thead>\n",
       "    <tr style=\"text-align: right;\">\n",
       "      <th></th>\n",
       "      <th>A</th>\n",
       "      <th>B</th>\n",
       "      <th>C</th>\n",
       "      <th>D</th>\n",
       "    </tr>\n",
       "  </thead>\n",
       "  <tbody>\n",
       "    <tr>\n",
       "      <th>0</th>\n",
       "      <td>0.102454</td>\n",
       "      <td>0.139561</td>\n",
       "      <td>0.490001</td>\n",
       "      <td>0.289439</td>\n",
       "    </tr>\n",
       "    <tr>\n",
       "      <th>1</th>\n",
       "      <td>1.000000</td>\n",
       "      <td>0.162569</td>\n",
       "      <td>1.000000</td>\n",
       "      <td>1.000000</td>\n",
       "    </tr>\n",
       "    <tr>\n",
       "      <th>2</th>\n",
       "      <td>0.179713</td>\n",
       "      <td>0.170808</td>\n",
       "      <td>1.000000</td>\n",
       "      <td>1.000000</td>\n",
       "    </tr>\n",
       "    <tr>\n",
       "      <th>3</th>\n",
       "      <td>1.000000</td>\n",
       "      <td>1.000000</td>\n",
       "      <td>0.274680</td>\n",
       "      <td>1.000000</td>\n",
       "    </tr>\n",
       "    <tr>\n",
       "      <th>4</th>\n",
       "      <td>0.428723</td>\n",
       "      <td>0.455792</td>\n",
       "      <td>0.036877</td>\n",
       "      <td>1.000000</td>\n",
       "    </tr>\n",
       "    <tr>\n",
       "      <th>5</th>\n",
       "      <td>1.000000</td>\n",
       "      <td>0.493062</td>\n",
       "      <td>1.000000</td>\n",
       "      <td>1.000000</td>\n",
       "    </tr>\n",
       "    <tr>\n",
       "      <th>6</th>\n",
       "      <td>1.000000</td>\n",
       "      <td>1.000000</td>\n",
       "      <td>0.072171</td>\n",
       "      <td>0.141258</td>\n",
       "    </tr>\n",
       "    <tr>\n",
       "      <th>7</th>\n",
       "      <td>0.211289</td>\n",
       "      <td>1.000000</td>\n",
       "      <td>0.018673</td>\n",
       "      <td>1.000000</td>\n",
       "    </tr>\n",
       "    <tr>\n",
       "      <th>8</th>\n",
       "      <td>1.000000</td>\n",
       "      <td>0.049206</td>\n",
       "      <td>1.000000</td>\n",
       "      <td>1.000000</td>\n",
       "    </tr>\n",
       "    <tr>\n",
       "      <th>9</th>\n",
       "      <td>0.274365</td>\n",
       "      <td>0.453129</td>\n",
       "      <td>0.056957</td>\n",
       "      <td>0.461790</td>\n",
       "    </tr>\n",
       "  </tbody>\n",
       "</table>\n",
       "</div>"
      ],
      "text/plain": [
       "          A         B         C         D\n",
       "0  0.102454  0.139561  0.490001  0.289439\n",
       "1  1.000000  0.162569  1.000000  1.000000\n",
       "2  0.179713  0.170808  1.000000  1.000000\n",
       "3  1.000000  1.000000  0.274680  1.000000\n",
       "4  0.428723  0.455792  0.036877  1.000000\n",
       "5  1.000000  0.493062  1.000000  1.000000\n",
       "6  1.000000  1.000000  0.072171  0.141258\n",
       "7  0.211289  1.000000  0.018673  1.000000\n",
       "8  1.000000  0.049206  1.000000  1.000000\n",
       "9  0.274365  0.453129  0.056957  0.461790"
      ]
     },
     "execution_count": 24,
     "metadata": {},
     "output_type": "execute_result"
    }
   ],
   "source": [
    "#replace NaN with other values\n",
    "df2.fillna(value=1)"
   ]
  },
  {
   "cell_type": "markdown",
   "metadata": {},
   "source": [
    "# Statistical Operations"
   ]
  },
  {
   "cell_type": "code",
   "execution_count": 25,
   "metadata": {
    "collapsed": false
   },
   "outputs": [
    {
     "data": {
      "text/plain": [
       "A    0.530607\n",
       "B    0.392907\n",
       "C    0.377429\n",
       "D    0.608792\n",
       "dtype: float64"
      ]
     },
     "execution_count": 25,
     "metadata": {},
     "output_type": "execute_result"
    }
   ],
   "source": [
    "# taking mean\n",
    "df.mean()\n"
   ]
  },
  {
   "cell_type": "code",
   "execution_count": 26,
   "metadata": {
    "collapsed": false
   },
   "outputs": [
    {
     "data": {
      "text/plain": [
       "0    0.255364\n",
       "1    0.631308\n",
       "2    0.457847\n",
       "3    0.624438\n",
       "4    0.401673\n",
       "5    0.701941\n",
       "6    0.409309\n",
       "7    0.383410\n",
       "8    0.597486\n",
       "9    0.311560\n",
       "dtype: float64"
      ]
     },
     "execution_count": 26,
     "metadata": {},
     "output_type": "execute_result"
    }
   ],
   "source": [
    "# mean in other axis\n",
    "df.mean(1)"
   ]
  },
  {
   "cell_type": "code",
   "execution_count": 27,
   "metadata": {
    "collapsed": true
   },
   "outputs": [],
   "source": [
    "# read_csv and to_csv functions are used to read csv data and write to csv data respectively."
   ]
  },
  {
   "cell_type": "code",
   "execution_count": null,
   "metadata": {
    "collapsed": false
   },
   "outputs": [],
   "source": []
  },
  {
   "cell_type": "code",
   "execution_count": null,
   "metadata": {
    "collapsed": true
   },
   "outputs": [],
   "source": []
  }
 ],
 "metadata": {
  "anaconda-cloud": {},
  "kernelspec": {
   "display_name": "Python [conda root]",
   "language": "python",
   "name": "conda-root-py"
  },
  "language_info": {
   "codemirror_mode": {
    "name": "ipython",
    "version": 2
   },
   "file_extension": ".py",
   "mimetype": "text/x-python",
   "name": "python",
   "nbconvert_exporter": "python",
   "pygments_lexer": "ipython2",
   "version": "2.7.12"
  }
 },
 "nbformat": 4,
 "nbformat_minor": 1
}
