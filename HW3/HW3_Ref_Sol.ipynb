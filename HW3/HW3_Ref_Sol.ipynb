{
 "cells": [
  {
   "cell_type": "markdown",
   "metadata": {},
   "source": [
    "1.\n",
    "Let's load the best model's graph and get a handle on all the important operations we will need. Note that instead of creating a new softmax output layer, we will just reuse the existing one (since it has the same number of outputs as the existing one). We will reinitialize its parameters before training."
   ]
  },
  {
   "cell_type": "code",
   "execution_count": 1,
   "metadata": {},
   "outputs": [
    {
     "name": "stdout",
     "output_type": "stream",
     "text": [
      "done\n"
     ]
    }
   ],
   "source": [
    "def reset_graph(seed=42):\n",
    "    tf.reset_default_graph()\n",
    "    tf.set_random_seed(seed)\n",
    "    np.random.seed(seed)\n",
    "print('done')\n"
   ]
  },
  {
   "cell_type": "code",
   "execution_count": 2,
   "metadata": {},
   "outputs": [
    {
     "name": "stdout",
     "output_type": "stream",
     "text": [
      "done\n"
     ]
    }
   ],
   "source": [
    "import tensorflow as tf\n",
    "tf.reset_default_graph()\n",
    "\n",
    "restore_saver = tf.train.import_meta_graph( \"./model/Team11_HW2.ckpt.meta\")\n",
    "\n",
    "X = tf.get_default_graph().get_tensor_by_name(\"X:0\")\n",
    "y = tf.get_default_graph().get_tensor_by_name(\"y:0\")\n",
    "loss = tf.get_default_graph().get_tensor_by_name(\"loss:0\")\n",
    "Y_proba = tf.get_default_graph().get_tensor_by_name(\"Y_proba:0\")\n",
    "logits = Y_proba.op.inputs[0]\n",
    "accuracy = tf.get_default_graph().get_tensor_by_name(\"accuracy:0\")\n",
    "print('done')"
   ]
  },
  {
   "cell_type": "markdown",
   "metadata": {},
   "source": [
    "To freeze the lower layers, we will exclude their variables from the optimizer's list of trainable variables, keeping only the output layer's trainable variables:"
   ]
  },
  {
   "cell_type": "code",
   "execution_count": 3,
   "metadata": {},
   "outputs": [
    {
     "name": "stdout",
     "output_type": "stream",
     "text": [
      "done\n"
     ]
    }
   ],
   "source": [
    "learning_rate = 0.01\n",
    "\n",
    "output_layer_vars = tf.get_collection(tf.GraphKeys.TRAINABLE_VARIABLES, scope=\"logits\")\n",
    "optimizer = tf.train.AdamOptimizer(learning_rate, name=\"Adam2\")\n",
    "training_op = optimizer.minimize(loss, var_list=output_layer_vars)\n",
    "print('done')"
   ]
  },
  {
   "cell_type": "code",
   "execution_count": 4,
   "metadata": {},
   "outputs": [
    {
     "name": "stdout",
     "output_type": "stream",
     "text": [
      "done\n"
     ]
    }
   ],
   "source": [
    "correct = tf.nn.in_top_k(logits, y, 1)\n",
    "accuracy = tf.reduce_mean(tf.cast(correct, tf.float32), name=\"accuracy\")\n",
    "\n",
    "init = tf.global_variables_initializer()\n",
    "five_frozen_saver = tf.train.Saver()\n",
    "print('done')"
   ]
  },
  {
   "cell_type": "markdown",
   "metadata": {},
   "source": [
    "2.\n",
    "Let's create the training, validation and test sets. We need to subtract 5 from the labels because TensorFlow expects integers from 0 to n_classes-1."
   ]
  },
  {
   "cell_type": "code",
   "execution_count": 5,
   "metadata": {},
   "outputs": [
    {
     "name": "stdout",
     "output_type": "stream",
     "text": [
      "Extracting /tmp/data/train-images-idx3-ubyte.gz\n",
      "Extracting /tmp/data/train-labels-idx1-ubyte.gz\n",
      "Extracting /tmp/data/t10k-images-idx3-ubyte.gz\n",
      "Extracting /tmp/data/t10k-labels-idx1-ubyte.gz\n",
      "done\n"
     ]
    }
   ],
   "source": [
    "from tensorflow.examples.tutorials.mnist import input_data\n",
    "mnist = input_data.read_data_sets(\"/tmp/data/\")\n",
    "X_train2_full = mnist.train.images[mnist.train.labels >= 5]\n",
    "y_train2_full = mnist.train.labels[mnist.train.labels >= 5] - 5\n",
    "X_valid2_full = mnist.validation.images[mnist.validation.labels >= 5]\n",
    "y_valid2_full = mnist.validation.labels[mnist.validation.labels >= 5] - 5\n",
    "X_test2 = mnist.test.images[mnist.test.labels >= 5]\n",
    "y_test2 = mnist.test.labels[mnist.test.labels >= 5] - 5\n",
    "print('done')"
   ]
  },
  {
   "cell_type": "markdown",
   "metadata": {},
   "source": [
    "Also, for the purpose of this exercise, we want to keep only 100 instances per class in the training set (and let's keep only 30 instances per class in the validation set). Let's create a small function to do that:"
   ]
  },
  {
   "cell_type": "code",
   "execution_count": 6,
   "metadata": {},
   "outputs": [
    {
     "name": "stdout",
     "output_type": "stream",
     "text": [
      "done\n"
     ]
    }
   ],
   "source": [
    "def sample_n_instances_per_class(X, y, n=100):\n",
    "    Xs, ys = [], []\n",
    "    for label in np.unique(y):\n",
    "        idx = (y == label)\n",
    "        Xc = X[idx][:n]\n",
    "        yc = y[idx][:n]\n",
    "        Xs.append(Xc)\n",
    "        ys.append(yc)\n",
    "    return np.concatenate(Xs), np.concatenate(ys)\n",
    "print('done')"
   ]
  },
  {
   "cell_type": "code",
   "execution_count": 7,
   "metadata": {},
   "outputs": [
    {
     "name": "stdout",
     "output_type": "stream",
     "text": [
      "done\n"
     ]
    }
   ],
   "source": [
    "import numpy as np\n",
    "X_train2, y_train2 = sample_n_instances_per_class(X_train2_full, y_train2_full, n=100)\n",
    "X_valid2, y_valid2 = sample_n_instances_per_class(X_valid2_full, y_valid2_full, n=30)\n",
    "print('done')"
   ]
  },
  {
   "cell_type": "markdown",
   "metadata": {},
   "source": [
    "Now let's train the model. This is the same training code as earlier, using early stopping, except for the initialization: we first initialize all the variables, then we restore the best model trained earlier (on digits 0 to 4), and finally we reinitialize the output layer variables."
   ]
  },
  {
   "cell_type": "code",
   "execution_count": 8,
   "metadata": {
    "scrolled": true
   },
   "outputs": [
    {
     "name": "stdout",
     "output_type": "stream",
     "text": [
      "INFO:tensorflow:Restoring parameters from ./model/Team11_HW2.ckpt\n",
      "0\tValidation loss: 13.550391\tBest loss: 13.550391\tAccuracy: 8.67%\n",
      "1\tValidation loss: 9.117629\tBest loss: 9.117629\tAccuracy: 10.00%\n",
      "2\tValidation loss: 4.515644\tBest loss: 4.515644\tAccuracy: 13.33%\n",
      "3\tValidation loss: 2.239404\tBest loss: 2.239404\tAccuracy: 26.00%\n",
      "4\tValidation loss: 1.521001\tBest loss: 1.521001\tAccuracy: 43.33%\n",
      "5\tValidation loss: 1.395050\tBest loss: 1.395050\tAccuracy: 45.33%\n",
      "6\tValidation loss: 1.329043\tBest loss: 1.329043\tAccuracy: 51.33%\n",
      "7\tValidation loss: 1.220435\tBest loss: 1.220435\tAccuracy: 50.67%\n",
      "8\tValidation loss: 1.393382\tBest loss: 1.220435\tAccuracy: 46.00%\n",
      "9\tValidation loss: 1.328711\tBest loss: 1.220435\tAccuracy: 49.33%\n",
      "10\tValidation loss: 1.285341\tBest loss: 1.220435\tAccuracy: 50.67%\n",
      "11\tValidation loss: 1.347284\tBest loss: 1.220435\tAccuracy: 46.00%\n",
      "12\tValidation loss: 1.315521\tBest loss: 1.220435\tAccuracy: 44.00%\n",
      "13\tValidation loss: 1.296335\tBest loss: 1.220435\tAccuracy: 42.00%\n",
      "14\tValidation loss: 1.218510\tBest loss: 1.218510\tAccuracy: 51.33%\n",
      "15\tValidation loss: 1.218145\tBest loss: 1.218145\tAccuracy: 50.00%\n",
      "16\tValidation loss: 1.267797\tBest loss: 1.218145\tAccuracy: 41.33%\n",
      "17\tValidation loss: 1.262987\tBest loss: 1.218145\tAccuracy: 51.33%\n",
      "18\tValidation loss: 1.252352\tBest loss: 1.218145\tAccuracy: 47.33%\n",
      "19\tValidation loss: 1.248531\tBest loss: 1.218145\tAccuracy: 46.67%\n",
      "20\tValidation loss: 1.290247\tBest loss: 1.218145\tAccuracy: 47.33%\n",
      "21\tValidation loss: 1.318257\tBest loss: 1.218145\tAccuracy: 51.33%\n",
      "22\tValidation loss: 1.218192\tBest loss: 1.218145\tAccuracy: 52.00%\n",
      "23\tValidation loss: 1.262949\tBest loss: 1.218145\tAccuracy: 48.00%\n",
      "24\tValidation loss: 1.218508\tBest loss: 1.218145\tAccuracy: 49.33%\n",
      "25\tValidation loss: 1.244544\tBest loss: 1.218145\tAccuracy: 48.00%\n",
      "26\tValidation loss: 1.270765\tBest loss: 1.218145\tAccuracy: 46.67%\n",
      "27\tValidation loss: 1.274783\tBest loss: 1.218145\tAccuracy: 46.00%\n",
      "28\tValidation loss: 1.257582\tBest loss: 1.218145\tAccuracy: 47.33%\n",
      "29\tValidation loss: 1.214947\tBest loss: 1.214947\tAccuracy: 51.33%\n",
      "30\tValidation loss: 1.269861\tBest loss: 1.214947\tAccuracy: 46.67%\n",
      "31\tValidation loss: 1.279526\tBest loss: 1.214947\tAccuracy: 46.00%\n",
      "32\tValidation loss: 1.192532\tBest loss: 1.192532\tAccuracy: 50.00%\n",
      "33\tValidation loss: 1.277401\tBest loss: 1.192532\tAccuracy: 46.67%\n",
      "34\tValidation loss: 1.198216\tBest loss: 1.192532\tAccuracy: 51.33%\n",
      "35\tValidation loss: 1.233905\tBest loss: 1.192532\tAccuracy: 51.33%\n",
      "36\tValidation loss: 1.270822\tBest loss: 1.192532\tAccuracy: 47.33%\n",
      "37\tValidation loss: 1.213937\tBest loss: 1.192532\tAccuracy: 46.00%\n",
      "38\tValidation loss: 1.250648\tBest loss: 1.192532\tAccuracy: 46.00%\n",
      "39\tValidation loss: 1.267839\tBest loss: 1.192532\tAccuracy: 48.67%\n",
      "40\tValidation loss: 1.213823\tBest loss: 1.192532\tAccuracy: 53.33%\n",
      "41\tValidation loss: 1.352747\tBest loss: 1.192532\tAccuracy: 47.33%\n",
      "42\tValidation loss: 1.223816\tBest loss: 1.192532\tAccuracy: 54.67%\n",
      "43\tValidation loss: 1.250153\tBest loss: 1.192532\tAccuracy: 50.00%\n",
      "44\tValidation loss: 1.216857\tBest loss: 1.192532\tAccuracy: 48.67%\n",
      "45\tValidation loss: 1.271387\tBest loss: 1.192532\tAccuracy: 49.33%\n",
      "46\tValidation loss: 1.263700\tBest loss: 1.192532\tAccuracy: 51.33%\n",
      "47\tValidation loss: 1.226245\tBest loss: 1.192532\tAccuracy: 52.00%\n",
      "48\tValidation loss: 1.259301\tBest loss: 1.192532\tAccuracy: 47.33%\n",
      "49\tValidation loss: 1.226733\tBest loss: 1.192532\tAccuracy: 52.67%\n",
      "50\tValidation loss: 1.243692\tBest loss: 1.192532\tAccuracy: 47.33%\n",
      "51\tValidation loss: 1.289337\tBest loss: 1.192532\tAccuracy: 45.33%\n",
      "52\tValidation loss: 1.200104\tBest loss: 1.192532\tAccuracy: 46.67%\n",
      "53\tValidation loss: 1.169345\tBest loss: 1.169345\tAccuracy: 48.67%\n",
      "54\tValidation loss: 1.260277\tBest loss: 1.169345\tAccuracy: 51.33%\n",
      "55\tValidation loss: 1.266821\tBest loss: 1.169345\tAccuracy: 48.67%\n",
      "56\tValidation loss: 1.256760\tBest loss: 1.169345\tAccuracy: 49.33%\n",
      "57\tValidation loss: 1.219887\tBest loss: 1.169345\tAccuracy: 44.67%\n",
      "58\tValidation loss: 1.179083\tBest loss: 1.169345\tAccuracy: 52.67%\n",
      "59\tValidation loss: 1.310286\tBest loss: 1.169345\tAccuracy: 43.33%\n",
      "60\tValidation loss: 1.230145\tBest loss: 1.169345\tAccuracy: 49.33%\n",
      "61\tValidation loss: 1.198935\tBest loss: 1.169345\tAccuracy: 47.33%\n",
      "62\tValidation loss: 1.262202\tBest loss: 1.169345\tAccuracy: 45.33%\n",
      "63\tValidation loss: 1.182586\tBest loss: 1.169345\tAccuracy: 51.33%\n",
      "64\tValidation loss: 1.302477\tBest loss: 1.169345\tAccuracy: 41.33%\n",
      "65\tValidation loss: 1.313031\tBest loss: 1.169345\tAccuracy: 54.00%\n",
      "66\tValidation loss: 1.352844\tBest loss: 1.169345\tAccuracy: 44.67%\n",
      "67\tValidation loss: 1.263227\tBest loss: 1.169345\tAccuracy: 54.67%\n",
      "68\tValidation loss: 1.206137\tBest loss: 1.169345\tAccuracy: 50.67%\n",
      "69\tValidation loss: 1.302921\tBest loss: 1.169345\tAccuracy: 43.33%\n",
      "70\tValidation loss: 1.149723\tBest loss: 1.149723\tAccuracy: 54.67%\n",
      "71\tValidation loss: 1.200330\tBest loss: 1.149723\tAccuracy: 50.67%\n",
      "72\tValidation loss: 1.246686\tBest loss: 1.149723\tAccuracy: 48.67%\n",
      "73\tValidation loss: 1.208376\tBest loss: 1.149723\tAccuracy: 52.00%\n",
      "74\tValidation loss: 1.271819\tBest loss: 1.149723\tAccuracy: 50.67%\n",
      "75\tValidation loss: 1.291540\tBest loss: 1.149723\tAccuracy: 46.67%\n",
      "76\tValidation loss: 1.282868\tBest loss: 1.149723\tAccuracy: 40.00%\n",
      "77\tValidation loss: 1.206468\tBest loss: 1.149723\tAccuracy: 49.33%\n",
      "78\tValidation loss: 1.211965\tBest loss: 1.149723\tAccuracy: 51.33%\n",
      "79\tValidation loss: 1.246184\tBest loss: 1.149723\tAccuracy: 44.00%\n",
      "80\tValidation loss: 1.294677\tBest loss: 1.149723\tAccuracy: 40.00%\n",
      "81\tValidation loss: 1.326006\tBest loss: 1.149723\tAccuracy: 44.00%\n",
      "82\tValidation loss: 1.147293\tBest loss: 1.147293\tAccuracy: 54.00%\n",
      "83\tValidation loss: 1.208964\tBest loss: 1.147293\tAccuracy: 51.33%\n",
      "84\tValidation loss: 1.267996\tBest loss: 1.147293\tAccuracy: 47.33%\n",
      "85\tValidation loss: 1.260700\tBest loss: 1.147293\tAccuracy: 45.33%\n",
      "86\tValidation loss: 1.181396\tBest loss: 1.147293\tAccuracy: 49.33%\n",
      "87\tValidation loss: 1.220935\tBest loss: 1.147293\tAccuracy: 47.33%\n",
      "88\tValidation loss: 1.223514\tBest loss: 1.147293\tAccuracy: 47.33%\n",
      "89\tValidation loss: 1.205215\tBest loss: 1.147293\tAccuracy: 49.33%\n",
      "90\tValidation loss: 1.244554\tBest loss: 1.147293\tAccuracy: 50.67%\n",
      "91\tValidation loss: 1.265273\tBest loss: 1.147293\tAccuracy: 44.67%\n",
      "92\tValidation loss: 1.226463\tBest loss: 1.147293\tAccuracy: 52.00%\n",
      "93\tValidation loss: 1.230344\tBest loss: 1.147293\tAccuracy: 45.33%\n",
      "94\tValidation loss: 1.270308\tBest loss: 1.147293\tAccuracy: 48.00%\n",
      "95\tValidation loss: 1.259641\tBest loss: 1.147293\tAccuracy: 42.67%\n",
      "96\tValidation loss: 1.289946\tBest loss: 1.147293\tAccuracy: 45.33%\n",
      "97\tValidation loss: 1.281956\tBest loss: 1.147293\tAccuracy: 46.00%\n",
      "98\tValidation loss: 1.264048\tBest loss: 1.147293\tAccuracy: 46.67%\n",
      "99\tValidation loss: 1.197066\tBest loss: 1.147293\tAccuracy: 46.67%\n",
      "100\tValidation loss: 1.262904\tBest loss: 1.147293\tAccuracy: 46.00%\n",
      "101\tValidation loss: 1.266427\tBest loss: 1.147293\tAccuracy: 46.67%\n",
      "102\tValidation loss: 1.234756\tBest loss: 1.147293\tAccuracy: 52.00%\n",
      "Early stopping!\n",
      "Total training time: 69.6s\n",
      "INFO:tensorflow:Restoring parameters from ./my_mnist_model_5_to_9_five_frozen\n",
      "Final test accuracy: 47.25%\n"
     ]
    }
   ],
   "source": [
    "import time\n",
    "\n",
    "n_epochs = 1000\n",
    "batch_size = 20\n",
    "\n",
    "max_checks_without_progress = 20\n",
    "checks_without_progress = 0\n",
    "best_loss = np.infty\n",
    "with tf.Session() as sess:\n",
    "    init.run()\n",
    "    restore_saver.restore(sess, \"./model/Team11_HW2.ckpt\")\n",
    "    \n",
    "    for var in output_layer_vars:\n",
    "        var.initializer.run()\n",
    "\n",
    "    t0 = time.time()\n",
    "        \n",
    "    for epoch in range(n_epochs):\n",
    "        rnd_idx = np.random.permutation(len(X_train2))\n",
    "        for rnd_indices in np.array_split(rnd_idx, len(X_train2) // batch_size):\n",
    "            X_batch, y_batch = X_train2[rnd_indices], y_train2[rnd_indices]\n",
    "            sess.run(training_op, feed_dict={X: X_batch, y: y_batch})\n",
    "        loss_val, acc_val = sess.run([loss, accuracy], feed_dict={X: X_valid2, y: y_valid2})\n",
    "        if loss_val < best_loss:\n",
    "            save_path = five_frozen_saver.save(sess, \"./my_mnist_model_5_to_9_five_frozen\")\n",
    "            best_loss = loss_val\n",
    "            checks_without_progress = 0\n",
    "        else:\n",
    "            checks_without_progress += 1\n",
    "            if checks_without_progress > max_checks_without_progress:\n",
    "                print(\"Early stopping!\")\n",
    "                break\n",
    "        print(\"{}\\tValidation loss: {:.6f}\\tBest loss: {:.6f}\\tAccuracy: {:.2f}%\".format(\n",
    "            epoch, loss_val, best_loss, acc_val * 100))\n",
    "\n",
    "    t1 = time.time()\n",
    "    print(\"Total training time: {:.1f}s\".format(t1 - t0))\n",
    "\n",
    "with tf.Session() as sess:\n",
    "    five_frozen_saver.restore(sess, \"./my_mnist_model_5_to_9_five_frozen\")\n",
    "    acc_test = accuracy.eval(feed_dict={X: X_test2, y: y_test2})\n",
    "    print(\"Final test accuracy: {:.2f}%\".format(acc_test * 100))"
   ]
  },
  {
   "cell_type": "markdown",
   "metadata": {},
   "source": [
    "3.\n",
    "Let's start by getting a handle on the output of the last frozen layer:"
   ]
  },
  {
   "cell_type": "code",
   "execution_count": 9,
   "metadata": {},
   "outputs": [
    {
     "name": "stdout",
     "output_type": "stream",
     "text": [
      "done\n"
     ]
    }
   ],
   "source": [
    "hidden5_out = tf.get_default_graph().get_tensor_by_name(\"hidden5_out:0\")\n",
    "print('done')"
   ]
  },
  {
   "cell_type": "markdown",
   "metadata": {},
   "source": [
    "Now let's train the model using roughly the same code as earlier. The difference is that we compute the output of the top frozen layer at the beginning (both for the training set and the validation set), and we cache it. This makes training roughly 1.5 to 3 times faster in this example (this may vary greatly, depending on your system):"
   ]
  },
  {
   "cell_type": "code",
   "execution_count": 10,
   "metadata": {
    "scrolled": true
   },
   "outputs": [
    {
     "name": "stdout",
     "output_type": "stream",
     "text": [
      "INFO:tensorflow:Restoring parameters from ./model/Team11_HW2.ckpt\n",
      "(500, 5)\n",
      "0\tValidation loss: 14.038921\tBest loss: 14.038921\tAccuracy: 9.33%\n",
      "1\tValidation loss: 9.362429\tBest loss: 9.362429\tAccuracy: 10.67%\n",
      "2\tValidation loss: 5.394629\tBest loss: 5.394629\tAccuracy: 12.00%\n",
      "3\tValidation loss: 2.811015\tBest loss: 2.811015\tAccuracy: 24.00%\n",
      "4\tValidation loss: 1.718167\tBest loss: 1.718167\tAccuracy: 37.33%\n",
      "5\tValidation loss: 1.598576\tBest loss: 1.598576\tAccuracy: 38.00%\n",
      "6\tValidation loss: 1.550299\tBest loss: 1.550299\tAccuracy: 41.33%\n",
      "7\tValidation loss: 1.505520\tBest loss: 1.505520\tAccuracy: 40.00%\n",
      "8\tValidation loss: 1.488877\tBest loss: 1.488877\tAccuracy: 44.67%\n",
      "9\tValidation loss: 1.479374\tBest loss: 1.479374\tAccuracy: 42.00%\n",
      "10\tValidation loss: 1.446867\tBest loss: 1.446867\tAccuracy: 44.00%\n",
      "11\tValidation loss: 1.433239\tBest loss: 1.433239\tAccuracy: 42.00%\n",
      "12\tValidation loss: 1.427489\tBest loss: 1.427489\tAccuracy: 46.67%\n",
      "13\tValidation loss: 1.390036\tBest loss: 1.390036\tAccuracy: 45.33%\n",
      "14\tValidation loss: 1.388872\tBest loss: 1.388872\tAccuracy: 45.33%\n",
      "15\tValidation loss: 1.374236\tBest loss: 1.374236\tAccuracy: 46.00%\n",
      "16\tValidation loss: 1.364798\tBest loss: 1.364798\tAccuracy: 45.33%\n",
      "17\tValidation loss: 1.351383\tBest loss: 1.351383\tAccuracy: 47.33%\n",
      "18\tValidation loss: 1.334318\tBest loss: 1.334318\tAccuracy: 48.67%\n",
      "19\tValidation loss: 1.368797\tBest loss: 1.334318\tAccuracy: 46.00%\n",
      "20\tValidation loss: 1.333191\tBest loss: 1.333191\tAccuracy: 47.33%\n",
      "21\tValidation loss: 1.322796\tBest loss: 1.322796\tAccuracy: 46.67%\n",
      "22\tValidation loss: 1.308810\tBest loss: 1.308810\tAccuracy: 50.00%\n",
      "23\tValidation loss: 1.318841\tBest loss: 1.308810\tAccuracy: 47.33%\n",
      "24\tValidation loss: 1.306848\tBest loss: 1.306848\tAccuracy: 51.33%\n",
      "25\tValidation loss: 1.310263\tBest loss: 1.306848\tAccuracy: 53.33%\n",
      "26\tValidation loss: 1.292025\tBest loss: 1.292025\tAccuracy: 50.00%\n",
      "27\tValidation loss: 1.291973\tBest loss: 1.291973\tAccuracy: 52.00%\n",
      "28\tValidation loss: 1.289959\tBest loss: 1.289959\tAccuracy: 50.67%\n",
      "29\tValidation loss: 1.300602\tBest loss: 1.289959\tAccuracy: 50.67%\n",
      "30\tValidation loss: 1.284453\tBest loss: 1.284453\tAccuracy: 52.67%\n",
      "31\tValidation loss: 1.301217\tBest loss: 1.284453\tAccuracy: 46.67%\n",
      "32\tValidation loss: 1.278582\tBest loss: 1.278582\tAccuracy: 49.33%\n",
      "33\tValidation loss: 1.286212\tBest loss: 1.278582\tAccuracy: 49.33%\n",
      "34\tValidation loss: 1.272135\tBest loss: 1.272135\tAccuracy: 53.33%\n",
      "35\tValidation loss: 1.280616\tBest loss: 1.272135\tAccuracy: 47.33%\n",
      "36\tValidation loss: 1.272641\tBest loss: 1.272135\tAccuracy: 49.33%\n",
      "37\tValidation loss: 1.293299\tBest loss: 1.272135\tAccuracy: 50.00%\n",
      "38\tValidation loss: 1.293703\tBest loss: 1.272135\tAccuracy: 53.33%\n",
      "39\tValidation loss: 1.281639\tBest loss: 1.272135\tAccuracy: 49.33%\n",
      "40\tValidation loss: 1.302741\tBest loss: 1.272135\tAccuracy: 49.33%\n",
      "41\tValidation loss: 1.288599\tBest loss: 1.272135\tAccuracy: 52.67%\n",
      "42\tValidation loss: 1.270144\tBest loss: 1.270144\tAccuracy: 48.00%\n",
      "43\tValidation loss: 1.284265\tBest loss: 1.270144\tAccuracy: 50.67%\n",
      "44\tValidation loss: 1.272025\tBest loss: 1.270144\tAccuracy: 50.00%\n",
      "45\tValidation loss: 1.263808\tBest loss: 1.263808\tAccuracy: 52.67%\n",
      "46\tValidation loss: 1.285260\tBest loss: 1.263808\tAccuracy: 48.67%\n",
      "47\tValidation loss: 1.315224\tBest loss: 1.263808\tAccuracy: 49.33%\n",
      "48\tValidation loss: 1.275782\tBest loss: 1.263808\tAccuracy: 52.00%\n",
      "49\tValidation loss: 1.267778\tBest loss: 1.263808\tAccuracy: 49.33%\n",
      "50\tValidation loss: 1.307618\tBest loss: 1.263808\tAccuracy: 47.33%\n",
      "51\tValidation loss: 1.268050\tBest loss: 1.263808\tAccuracy: 52.67%\n",
      "52\tValidation loss: 1.266413\tBest loss: 1.263808\tAccuracy: 52.00%\n",
      "53\tValidation loss: 1.272915\tBest loss: 1.263808\tAccuracy: 50.00%\n",
      "54\tValidation loss: 1.281671\tBest loss: 1.263808\tAccuracy: 50.67%\n",
      "55\tValidation loss: 1.293635\tBest loss: 1.263808\tAccuracy: 52.00%\n",
      "56\tValidation loss: 1.303879\tBest loss: 1.263808\tAccuracy: 50.00%\n",
      "57\tValidation loss: 1.266228\tBest loss: 1.263808\tAccuracy: 51.33%\n",
      "58\tValidation loss: 1.294894\tBest loss: 1.263808\tAccuracy: 50.67%\n",
      "59\tValidation loss: 1.278357\tBest loss: 1.263808\tAccuracy: 48.67%\n",
      "60\tValidation loss: 1.278110\tBest loss: 1.263808\tAccuracy: 51.33%\n",
      "61\tValidation loss: 1.297471\tBest loss: 1.263808\tAccuracy: 50.00%\n",
      "62\tValidation loss: 1.276465\tBest loss: 1.263808\tAccuracy: 50.67%\n",
      "63\tValidation loss: 1.271833\tBest loss: 1.263808\tAccuracy: 50.67%\n",
      "64\tValidation loss: 1.319316\tBest loss: 1.263808\tAccuracy: 48.00%\n",
      "65\tValidation loss: 1.281708\tBest loss: 1.263808\tAccuracy: 49.33%\n",
      "Early stopping!\n",
      "Total training time: 111.8s\n",
      "INFO:tensorflow:Restoring parameters from ./my_mnist_model_5_to_9_five_frozen\n",
      "Final test accuracy: 47.25%\n"
     ]
    }
   ],
   "source": [
    "import time\n",
    "\n",
    "n_epochs = 1000\n",
    "batch_size = 20\n",
    "\n",
    "max_checks_without_progress = 20\n",
    "checks_without_progress = 0\n",
    "best_loss = np.infty\n",
    "\n",
    "with tf.Session() as sess:\n",
    "    init.run()\n",
    "    restore_saver.restore(sess, \"./model/Team11_HW2.ckpt\")\n",
    "    for var in output_layer_vars:\n",
    "        var.initializer.run()\n",
    "\n",
    "    t0 = time.time()\n",
    "    #X_train2(500,784)\n",
    "    hidden5_train = hidden5_out.eval(feed_dict={X: X_train2, y: y_train2})\n",
    "    hidden5_valid = hidden5_out.eval(feed_dict={X: X_valid2, y: y_valid2})\n",
    "    print(hidden5_train.shape)  #(128,128)\n",
    "    for epoch in range(n_epochs):\n",
    "        rnd_idx = np.random.permutation(len(X_train2))  #create 1~500 rnd\n",
    "        for rnd_indices in np.array_split(rnd_idx, len(X_train2) // batch_size):\n",
    "            h5_batch, y_batch = hidden5_train[rnd_indices], y_train2[rnd_indices]\n",
    "            sess.run(training_op, feed_dict={hidden5_out: h5_batch, y: y_batch})\n",
    "        loss_val, acc_val = sess.run([loss, accuracy], feed_dict={hidden5_out: hidden5_valid, y: y_valid2})\n",
    "        if loss_val < best_loss:\n",
    "            save_path = five_frozen_saver.save(sess, \"./my_mnist_model_5_to_9_five_frozen\")\n",
    "            best_loss = loss_val\n",
    "            checks_without_progress = 0\n",
    "        else:\n",
    "            checks_without_progress += 1\n",
    "            if checks_without_progress > max_checks_without_progress:\n",
    "                print(\"Early stopping!\")\n",
    "                break\n",
    "        print(\"{}\\tValidation loss: {:.6f}\\tBest loss: {:.6f}\\tAccuracy: {:.2f}%\".format(\n",
    "            epoch, loss_val, best_loss, acc_val * 100))\n",
    "\n",
    "    t1 = time.time()\n",
    "    print(\"Total training time: {:.1f}s\".format(t1 - t0))\n",
    "\n",
    "with tf.Session() as sess:\n",
    "    five_frozen_saver.restore(sess, \"./my_mnist_model_5_to_9_five_frozen\")\n",
    "    acc_test = accuracy.eval(feed_dict={X: X_test2, y: y_test2})\n",
    "    print(\"Final test accuracy: {:.2f}%\".format(acc_test * 100))"
   ]
  },
  {
   "cell_type": "markdown",
   "metadata": {},
   "source": [
    "4.\n",
    "Let's load the best model again, but this time we will create a new softmax output layer on top of the 4th hidden layer:"
   ]
  },
  {
   "cell_type": "code",
   "execution_count": 15,
   "metadata": {},
   "outputs": [
    {
     "name": "stdout",
     "output_type": "stream",
     "text": [
      "done\n"
     ]
    }
   ],
   "source": [
    "reset_graph()\n",
    "\n",
    "n_outputs = 5\n",
    "\n",
    "restore_saver = tf.train.import_meta_graph(\"./model/Team11_HW2.ckpt.meta\")\n",
    "he_init = tf.contrib.layers.variance_scaling_initializer()\n",
    "X = tf.get_default_graph().get_tensor_by_name(\"X:0\")\n",
    "y = tf.get_default_graph().get_tensor_by_name(\"y:0\")\n",
    "\n",
    "hidden4_out = tf.get_default_graph().get_tensor_by_name(\"hidden4_out:0\")\n",
    "logits = tf.layers.dense(hidden4_out, n_outputs, kernel_initializer=he_init, name=\"new_logits\")\n",
    "Y_proba = tf.nn.softmax(logits)\n",
    "xentropy = tf.nn.sparse_softmax_cross_entropy_with_logits(labels=y, logits=logits)\n",
    "loss = tf.reduce_mean(xentropy)\n",
    "correct = tf.nn.in_top_k(logits, y, 1)\n",
    "accuracy = tf.reduce_mean(tf.cast(correct, tf.float32), name=\"accuracy\")\n",
    "print('done')"
   ]
  },
  {
   "cell_type": "markdown",
   "metadata": {},
   "source": [
    "And now let's create the training operation. We want to freeze all the layers except for the new output layer:"
   ]
  },
  {
   "cell_type": "code",
   "execution_count": 16,
   "metadata": {},
   "outputs": [
    {
     "name": "stdout",
     "output_type": "stream",
     "text": [
      "done\n"
     ]
    }
   ],
   "source": [
    "learning_rate = 0.01\n",
    "\n",
    "output_layer_vars = tf.get_collection(tf.GraphKeys.TRAINABLE_VARIABLES, scope=\"new_logits\")\n",
    "optimizer = tf.train.AdamOptimizer(learning_rate, name=\"Adam2\")\n",
    "training_op = optimizer.minimize(loss, var_list=output_layer_vars)\n",
    "\n",
    "init = tf.global_variables_initializer()\n",
    "four_frozen_saver = tf.train.Saver()\n",
    "print('done')"
   ]
  },
  {
   "cell_type": "markdown",
   "metadata": {},
   "source": [
    "And once again we train the model with the same code as earlier. Note: we could of course write a function once and use it multiple times, rather than copying almost the same training code over and over again, but as we keep tweaking the code slightly, the function would need multiple arguments and if statements, and it would have to be at the beginning of the notebook, where it would not make much sense to readers. In short it would be very confusing, so we're better off with copy & paste."
   ]
  },
  {
   "cell_type": "code",
   "execution_count": 20,
   "metadata": {},
   "outputs": [
    {
     "name": "stdout",
     "output_type": "stream",
     "text": [
      "INFO:tensorflow:Restoring parameters from ./model/Team11_HW2.ckpt\n",
      "0\tValidation loss: 3.427775\tBest loss: 3.427775\tAccuracy: 42.00%\n",
      "1\tValidation loss: 2.353230\tBest loss: 2.353230\tAccuracy: 45.33%\n",
      "2\tValidation loss: 2.158878\tBest loss: 2.158878\tAccuracy: 30.67%\n",
      "3\tValidation loss: 1.997038\tBest loss: 1.997038\tAccuracy: 46.00%\n",
      "4\tValidation loss: 1.787396\tBest loss: 1.787396\tAccuracy: 44.67%\n",
      "5\tValidation loss: 1.785813\tBest loss: 1.785813\tAccuracy: 44.67%\n",
      "6\tValidation loss: 1.742076\tBest loss: 1.742076\tAccuracy: 42.00%\n",
      "7\tValidation loss: 2.210415\tBest loss: 1.742076\tAccuracy: 44.00%\n",
      "8\tValidation loss: 2.076468\tBest loss: 1.742076\tAccuracy: 42.00%\n",
      "9\tValidation loss: 1.830659\tBest loss: 1.742076\tAccuracy: 44.67%\n",
      "10\tValidation loss: 2.353256\tBest loss: 1.742076\tAccuracy: 40.00%\n",
      "11\tValidation loss: 1.969716\tBest loss: 1.742076\tAccuracy: 50.67%\n",
      "12\tValidation loss: 2.580928\tBest loss: 1.742076\tAccuracy: 40.67%\n",
      "13\tValidation loss: 2.333932\tBest loss: 1.742076\tAccuracy: 43.33%\n",
      "14\tValidation loss: 2.187187\tBest loss: 1.742076\tAccuracy: 42.00%\n",
      "15\tValidation loss: 2.187095\tBest loss: 1.742076\tAccuracy: 50.67%\n",
      "16\tValidation loss: 2.134008\tBest loss: 1.742076\tAccuracy: 47.33%\n",
      "17\tValidation loss: 1.954451\tBest loss: 1.742076\tAccuracy: 44.67%\n",
      "18\tValidation loss: 2.014068\tBest loss: 1.742076\tAccuracy: 42.00%\n",
      "19\tValidation loss: 1.673427\tBest loss: 1.673427\tAccuracy: 54.00%\n",
      "20\tValidation loss: 1.898579\tBest loss: 1.673427\tAccuracy: 48.67%\n",
      "21\tValidation loss: 2.099083\tBest loss: 1.673427\tAccuracy: 43.33%\n",
      "22\tValidation loss: 1.681679\tBest loss: 1.673427\tAccuracy: 50.67%\n",
      "23\tValidation loss: 1.626789\tBest loss: 1.626789\tAccuracy: 44.00%\n",
      "24\tValidation loss: 2.225758\tBest loss: 1.626789\tAccuracy: 45.33%\n",
      "25\tValidation loss: 2.176150\tBest loss: 1.626789\tAccuracy: 45.33%\n",
      "26\tValidation loss: 1.847925\tBest loss: 1.626789\tAccuracy: 47.33%\n",
      "27\tValidation loss: 1.925913\tBest loss: 1.626789\tAccuracy: 41.33%\n",
      "28\tValidation loss: 1.807460\tBest loss: 1.626789\tAccuracy: 44.00%\n",
      "29\tValidation loss: 1.747684\tBest loss: 1.626789\tAccuracy: 51.33%\n",
      "30\tValidation loss: 2.082180\tBest loss: 1.626789\tAccuracy: 49.33%\n",
      "31\tValidation loss: 1.896875\tBest loss: 1.626789\tAccuracy: 50.67%\n",
      "32\tValidation loss: 1.869108\tBest loss: 1.626789\tAccuracy: 45.33%\n",
      "33\tValidation loss: 1.919887\tBest loss: 1.626789\tAccuracy: 46.67%\n",
      "34\tValidation loss: 2.024422\tBest loss: 1.626789\tAccuracy: 48.00%\n",
      "35\tValidation loss: 1.479627\tBest loss: 1.479627\tAccuracy: 47.33%\n",
      "36\tValidation loss: 2.254463\tBest loss: 1.479627\tAccuracy: 44.00%\n",
      "37\tValidation loss: 2.297776\tBest loss: 1.479627\tAccuracy: 41.33%\n",
      "38\tValidation loss: 1.660653\tBest loss: 1.479627\tAccuracy: 50.67%\n",
      "39\tValidation loss: 1.829857\tBest loss: 1.479627\tAccuracy: 45.33%\n",
      "40\tValidation loss: 1.635046\tBest loss: 1.479627\tAccuracy: 46.67%\n",
      "41\tValidation loss: 1.804791\tBest loss: 1.479627\tAccuracy: 42.67%\n",
      "42\tValidation loss: 1.349845\tBest loss: 1.349845\tAccuracy: 52.00%\n",
      "43\tValidation loss: 2.492568\tBest loss: 1.349845\tAccuracy: 31.33%\n",
      "44\tValidation loss: 1.863059\tBest loss: 1.349845\tAccuracy: 43.33%\n",
      "45\tValidation loss: 1.564684\tBest loss: 1.349845\tAccuracy: 50.00%\n",
      "46\tValidation loss: 1.707992\tBest loss: 1.349845\tAccuracy: 46.67%\n",
      "47\tValidation loss: 1.777341\tBest loss: 1.349845\tAccuracy: 58.67%\n",
      "48\tValidation loss: 1.956290\tBest loss: 1.349845\tAccuracy: 44.00%\n",
      "49\tValidation loss: 1.849926\tBest loss: 1.349845\tAccuracy: 48.67%\n",
      "50\tValidation loss: 2.205873\tBest loss: 1.349845\tAccuracy: 48.67%\n",
      "51\tValidation loss: 2.405086\tBest loss: 1.349845\tAccuracy: 39.33%\n",
      "52\tValidation loss: 2.151684\tBest loss: 1.349845\tAccuracy: 46.00%\n",
      "53\tValidation loss: 1.598892\tBest loss: 1.349845\tAccuracy: 51.33%\n",
      "54\tValidation loss: 2.494091\tBest loss: 1.349845\tAccuracy: 43.33%\n",
      "55\tValidation loss: 2.277168\tBest loss: 1.349845\tAccuracy: 40.67%\n",
      "56\tValidation loss: 1.583106\tBest loss: 1.349845\tAccuracy: 52.67%\n",
      "57\tValidation loss: 1.936545\tBest loss: 1.349845\tAccuracy: 41.33%\n",
      "58\tValidation loss: 1.583939\tBest loss: 1.349845\tAccuracy: 48.67%\n",
      "59\tValidation loss: 1.814862\tBest loss: 1.349845\tAccuracy: 47.33%\n",
      "60\tValidation loss: 1.354273\tBest loss: 1.349845\tAccuracy: 51.33%\n",
      "61\tValidation loss: 2.055065\tBest loss: 1.349845\tAccuracy: 42.00%\n",
      "62\tValidation loss: 2.004101\tBest loss: 1.349845\tAccuracy: 39.33%\n",
      "Early stopping!\n",
      "INFO:tensorflow:Restoring parameters from ./my_mnist_model_5_to_9_four_frozen\n",
      "Final test accuracy: 49.66%\n"
     ]
    }
   ],
   "source": [
    "n_epochs = 1000\n",
    "batch_size = 20\n",
    "\n",
    "max_checks_without_progress = 20\n",
    "checks_without_progress = 0\n",
    "best_loss = np.infty\n",
    "\n",
    "with tf.Session() as sess:\n",
    "    init.run()\n",
    "    restore_saver.restore(sess, \"./model/Team11_HW2.ckpt\")\n",
    "        \n",
    "    for epoch in range(n_epochs):\n",
    "        rnd_idx = np.random.permutation(len(X_train2))\n",
    "        for rnd_indices in np.array_split(rnd_idx, len(X_train2) // batch_size):\n",
    "            X_batch, y_batch = X_train2[rnd_indices], y_train2[rnd_indices]\n",
    "            sess.run(training_op, feed_dict={X: X_batch, y: y_batch})\n",
    "        loss_val, acc_val = sess.run([loss, accuracy], feed_dict={X: X_valid2, y: y_valid2})\n",
    "        if loss_val < best_loss:\n",
    "            save_path = four_frozen_saver.save(sess, \"./my_mnist_model_5_to_9_four_frozen\")\n",
    "            best_loss = loss_val\n",
    "            checks_without_progress = 0\n",
    "        else:\n",
    "            checks_without_progress += 1\n",
    "            if checks_without_progress > max_checks_without_progress:\n",
    "                print(\"Early stopping!\")\n",
    "                break\n",
    "        print(\"{}\\tValidation loss: {:.6f}\\tBest loss: {:.6f}\\tAccuracy: {:.2f}%\".format(\n",
    "            epoch, loss_val, best_loss, acc_val * 100))\n",
    "\n",
    "with tf.Session() as sess:\n",
    "    four_frozen_saver.restore(sess, \"./my_mnist_model_5_to_9_four_frozen\")\n",
    "    acc_test = accuracy.eval(feed_dict={X: X_test2, y: y_test2})\n",
    "    print(\"Final test accuracy: {:.2f}%\".format(acc_test * 100))"
   ]
  },
  {
   "cell_type": "markdown",
   "metadata": {},
   "source": [
    "5.\n",
    "Now unfreeze the top two hidden layers and continue training: can you get the model to perform even better?"
   ]
  },
  {
   "cell_type": "code",
   "execution_count": 23,
   "metadata": {},
   "outputs": [
    {
     "name": "stdout",
     "output_type": "stream",
     "text": [
      "done\n"
     ]
    }
   ],
   "source": [
    "learning_rate = 0.01\n",
    "\n",
    "unfrozen_vars = tf.get_collection(tf.GraphKeys.TRAINABLE_VARIABLES, scope=\"hidden[34]|new_logits\")\n",
    "optimizer = tf.train.AdamOptimizer(learning_rate, name=\"Adam3\")\n",
    "training_op = optimizer.minimize(loss, var_list=unfrozen_vars)\n",
    "\n",
    "init = tf.global_variables_initializer()\n",
    "two_frozen_saver = tf.train.Saver()\n",
    "print('done')"
   ]
  },
  {
   "cell_type": "code",
   "execution_count": 24,
   "metadata": {},
   "outputs": [
    {
     "name": "stdout",
     "output_type": "stream",
     "text": [
      "INFO:tensorflow:Restoring parameters from ./my_mnist_model_5_to_9_four_frozen\n",
      "0\tValidation loss: 2.687472\tBest loss: 2.687472\tAccuracy: 38.67%\n",
      "1\tValidation loss: 1.485615\tBest loss: 1.485615\tAccuracy: 47.33%\n",
      "2\tValidation loss: 1.375690\tBest loss: 1.375690\tAccuracy: 49.33%\n",
      "3\tValidation loss: 1.192660\tBest loss: 1.192660\tAccuracy: 50.67%\n",
      "4\tValidation loss: 1.313740\tBest loss: 1.192660\tAccuracy: 50.67%\n",
      "5\tValidation loss: 1.125055\tBest loss: 1.125055\tAccuracy: 50.67%\n",
      "6\tValidation loss: 1.179728\tBest loss: 1.125055\tAccuracy: 58.00%\n",
      "7\tValidation loss: 1.257175\tBest loss: 1.125055\tAccuracy: 56.00%\n",
      "8\tValidation loss: 1.178493\tBest loss: 1.125055\tAccuracy: 54.67%\n",
      "9\tValidation loss: 1.230717\tBest loss: 1.125055\tAccuracy: 48.00%\n",
      "10\tValidation loss: 1.187102\tBest loss: 1.125055\tAccuracy: 52.67%\n",
      "11\tValidation loss: 1.205531\tBest loss: 1.125055\tAccuracy: 52.00%\n",
      "12\tValidation loss: 1.198220\tBest loss: 1.125055\tAccuracy: 51.33%\n",
      "13\tValidation loss: 1.273223\tBest loss: 1.125055\tAccuracy: 45.33%\n",
      "14\tValidation loss: 1.130647\tBest loss: 1.125055\tAccuracy: 56.67%\n",
      "15\tValidation loss: 1.023391\tBest loss: 1.023391\tAccuracy: 62.67%\n",
      "16\tValidation loss: 1.257603\tBest loss: 1.023391\tAccuracy: 48.67%\n",
      "17\tValidation loss: 1.171149\tBest loss: 1.023391\tAccuracy: 59.33%\n",
      "18\tValidation loss: 1.108795\tBest loss: 1.023391\tAccuracy: 55.33%\n",
      "19\tValidation loss: 1.158342\tBest loss: 1.023391\tAccuracy: 50.67%\n",
      "20\tValidation loss: 1.302529\tBest loss: 1.023391\tAccuracy: 52.00%\n",
      "21\tValidation loss: 1.239510\tBest loss: 1.023391\tAccuracy: 58.00%\n",
      "22\tValidation loss: 1.113148\tBest loss: 1.023391\tAccuracy: 57.33%\n",
      "23\tValidation loss: 1.178923\tBest loss: 1.023391\tAccuracy: 54.00%\n",
      "24\tValidation loss: 1.153356\tBest loss: 1.023391\tAccuracy: 56.67%\n",
      "25\tValidation loss: 1.114932\tBest loss: 1.023391\tAccuracy: 50.00%\n",
      "26\tValidation loss: 1.215410\tBest loss: 1.023391\tAccuracy: 50.67%\n",
      "27\tValidation loss: 1.293034\tBest loss: 1.023391\tAccuracy: 48.00%\n",
      "28\tValidation loss: 1.169197\tBest loss: 1.023391\tAccuracy: 53.33%\n",
      "29\tValidation loss: 1.149762\tBest loss: 1.023391\tAccuracy: 56.00%\n",
      "30\tValidation loss: 1.228260\tBest loss: 1.023391\tAccuracy: 48.67%\n",
      "31\tValidation loss: 1.339539\tBest loss: 1.023391\tAccuracy: 52.00%\n",
      "32\tValidation loss: 1.139310\tBest loss: 1.023391\tAccuracy: 52.00%\n",
      "33\tValidation loss: 1.128522\tBest loss: 1.023391\tAccuracy: 58.67%\n",
      "34\tValidation loss: 1.333994\tBest loss: 1.023391\tAccuracy: 51.33%\n",
      "35\tValidation loss: 1.142186\tBest loss: 1.023391\tAccuracy: 57.33%\n",
      "Early stopping!\n",
      "INFO:tensorflow:Restoring parameters from ./my_mnist_model_5_to_9_two_frozen\n",
      "Final test accuracy: 52.42%\n"
     ]
    }
   ],
   "source": [
    "n_epochs = 1000\n",
    "batch_size = 20\n",
    "\n",
    "max_checks_without_progress = 20\n",
    "checks_without_progress = 0\n",
    "best_loss = np.infty\n",
    "\n",
    "with tf.Session() as sess:\n",
    "    init.run()\n",
    "    four_frozen_saver.restore(sess, \"./my_mnist_model_5_to_9_four_frozen\")\n",
    "        \n",
    "    for epoch in range(n_epochs):\n",
    "        rnd_idx = np.random.permutation(len(X_train2))\n",
    "        for rnd_indices in np.array_split(rnd_idx, len(X_train2) // batch_size):\n",
    "            X_batch, y_batch = X_train2[rnd_indices], y_train2[rnd_indices]\n",
    "            sess.run(training_op, feed_dict={X: X_batch, y: y_batch})\n",
    "        loss_val, acc_val = sess.run([loss, accuracy], feed_dict={X: X_valid2, y: y_valid2})\n",
    "        if loss_val < best_loss:\n",
    "            save_path = two_frozen_saver.save(sess, \"./my_mnist_model_5_to_9_two_frozen\")\n",
    "            best_loss = loss_val\n",
    "            checks_without_progress = 0\n",
    "        else:\n",
    "            checks_without_progress += 1\n",
    "            if checks_without_progress > max_checks_without_progress:\n",
    "                print(\"Early stopping!\")\n",
    "                break\n",
    "        print(\"{}\\tValidation loss: {:.6f}\\tBest loss: {:.6f}\\tAccuracy: {:.2f}%\".format(\n",
    "            epoch, loss_val, best_loss, acc_val * 100))\n",
    "\n",
    "with tf.Session() as sess:\n",
    "    two_frozen_saver.restore(sess, \"./my_mnist_model_5_to_9_two_frozen\")\n",
    "    acc_test = accuracy.eval(feed_dict={X: X_test2, y: y_test2})\n",
    "    print(\"Final test accuracy: {:.2f}%\".format(acc_test * 100))"
   ]
  },
  {
   "cell_type": "code",
   "execution_count": 25,
   "metadata": {},
   "outputs": [
    {
     "name": "stdout",
     "output_type": "stream",
     "text": [
      "done\n"
     ]
    }
   ],
   "source": [
    "learning_rate = 0.01\n",
    "\n",
    "optimizer = tf.train.AdamOptimizer(learning_rate, name=\"Adam4\")\n",
    "training_op = optimizer.minimize(loss)\n",
    "\n",
    "init = tf.global_variables_initializer()\n",
    "no_frozen_saver = tf.train.Saver()\n",
    "print('done')"
   ]
  },
  {
   "cell_type": "code",
   "execution_count": 26,
   "metadata": {},
   "outputs": [
    {
     "name": "stdout",
     "output_type": "stream",
     "text": [
      "INFO:tensorflow:Restoring parameters from ./my_mnist_model_5_to_9_two_frozen\n",
      "0\tValidation loss: 0.883460\tBest loss: 0.883460\tAccuracy: 69.33%\n",
      "1\tValidation loss: 0.508830\tBest loss: 0.508830\tAccuracy: 82.00%\n",
      "2\tValidation loss: 0.542565\tBest loss: 0.508830\tAccuracy: 80.67%\n",
      "3\tValidation loss: 0.559748\tBest loss: 0.508830\tAccuracy: 85.33%\n",
      "4\tValidation loss: 0.762251\tBest loss: 0.508830\tAccuracy: 77.33%\n",
      "5\tValidation loss: 0.634756\tBest loss: 0.508830\tAccuracy: 86.00%\n",
      "6\tValidation loss: 0.562701\tBest loss: 0.508830\tAccuracy: 86.00%\n",
      "7\tValidation loss: 0.461003\tBest loss: 0.461003\tAccuracy: 86.00%\n",
      "8\tValidation loss: 0.464231\tBest loss: 0.461003\tAccuracy: 90.67%\n",
      "9\tValidation loss: 0.399830\tBest loss: 0.399830\tAccuracy: 89.33%\n",
      "10\tValidation loss: 0.399738\tBest loss: 0.399738\tAccuracy: 90.00%\n",
      "11\tValidation loss: 0.420987\tBest loss: 0.399738\tAccuracy: 90.00%\n",
      "12\tValidation loss: 0.399378\tBest loss: 0.399378\tAccuracy: 90.00%\n",
      "13\tValidation loss: 0.638286\tBest loss: 0.399378\tAccuracy: 84.00%\n",
      "14\tValidation loss: 0.345020\tBest loss: 0.345020\tAccuracy: 91.33%\n",
      "15\tValidation loss: 0.463226\tBest loss: 0.345020\tAccuracy: 88.67%\n",
      "16\tValidation loss: 0.376164\tBest loss: 0.345020\tAccuracy: 89.33%\n",
      "17\tValidation loss: 0.730670\tBest loss: 0.345020\tAccuracy: 84.67%\n",
      "18\tValidation loss: 0.540990\tBest loss: 0.345020\tAccuracy: 88.67%\n",
      "19\tValidation loss: 0.655898\tBest loss: 0.345020\tAccuracy: 89.33%\n",
      "20\tValidation loss: 0.686969\tBest loss: 0.345020\tAccuracy: 84.00%\n",
      "21\tValidation loss: 0.583762\tBest loss: 0.345020\tAccuracy: 88.67%\n",
      "22\tValidation loss: 0.499181\tBest loss: 0.345020\tAccuracy: 90.67%\n",
      "23\tValidation loss: 0.399011\tBest loss: 0.345020\tAccuracy: 92.00%\n",
      "24\tValidation loss: 0.381577\tBest loss: 0.345020\tAccuracy: 88.67%\n",
      "25\tValidation loss: 0.555183\tBest loss: 0.345020\tAccuracy: 88.67%\n",
      "26\tValidation loss: 0.468238\tBest loss: 0.345020\tAccuracy: 90.00%\n",
      "27\tValidation loss: 0.458126\tBest loss: 0.345020\tAccuracy: 88.00%\n",
      "28\tValidation loss: 0.568561\tBest loss: 0.345020\tAccuracy: 87.33%\n",
      "29\tValidation loss: 0.718777\tBest loss: 0.345020\tAccuracy: 88.00%\n",
      "30\tValidation loss: 0.729872\tBest loss: 0.345020\tAccuracy: 83.33%\n",
      "31\tValidation loss: 0.672615\tBest loss: 0.345020\tAccuracy: 86.00%\n",
      "32\tValidation loss: 0.560909\tBest loss: 0.345020\tAccuracy: 86.00%\n",
      "33\tValidation loss: 0.585570\tBest loss: 0.345020\tAccuracy: 84.67%\n",
      "34\tValidation loss: 0.719850\tBest loss: 0.345020\tAccuracy: 87.33%\n",
      "Early stopping!\n",
      "INFO:tensorflow:Restoring parameters from ./my_mnist_model_5_to_9_no_frozen\n",
      "Final test accuracy: 88.44%\n"
     ]
    }
   ],
   "source": [
    "n_epochs = 1000\n",
    "batch_size = 20\n",
    "\n",
    "max_checks_without_progress = 20\n",
    "checks_without_progress = 0\n",
    "best_loss = np.infty\n",
    "\n",
    "with tf.Session() as sess:\n",
    "    init.run()\n",
    "    two_frozen_saver.restore(sess, \"./my_mnist_model_5_to_9_two_frozen\")\n",
    "        \n",
    "    for epoch in range(n_epochs):\n",
    "        rnd_idx = np.random.permutation(len(X_train2))\n",
    "        for rnd_indices in np.array_split(rnd_idx, len(X_train2) // batch_size):\n",
    "            X_batch, y_batch = X_train2[rnd_indices], y_train2[rnd_indices]\n",
    "            sess.run(training_op, feed_dict={X: X_batch, y: y_batch})\n",
    "        loss_val, acc_val = sess.run([loss, accuracy], feed_dict={X: X_valid2, y: y_valid2})\n",
    "        if loss_val < best_loss:\n",
    "            save_path = no_frozen_saver.save(sess, \"./my_mnist_model_5_to_9_no_frozen\")\n",
    "            best_loss = loss_val\n",
    "            checks_without_progress = 0\n",
    "        else:\n",
    "            checks_without_progress += 1\n",
    "            if checks_without_progress > max_checks_without_progress:\n",
    "                print(\"Early stopping!\")\n",
    "                break\n",
    "        print(\"{}\\tValidation loss: {:.6f}\\tBest loss: {:.6f}\\tAccuracy: {:.2f}%\".format(\n",
    "            epoch, loss_val, best_loss, acc_val * 100))\n",
    "\n",
    "with tf.Session() as sess:\n",
    "    no_frozen_saver.restore(sess, \"./my_mnist_model_5_to_9_no_frozen\")\n",
    "    acc_test = accuracy.eval(feed_dict={X: X_test2, y: y_test2})\n",
    "    print(\"Final test accuracy: {:.2f}%\".format(acc_test * 100))"
   ]
  },
  {
   "cell_type": "markdown",
   "metadata": {},
   "source": [
    "Let's compare that to a DNN trained from scratch:"
   ]
  },
  {
   "cell_type": "code",
   "execution_count": 34,
   "metadata": {},
   "outputs": [
    {
     "ename": "NameError",
     "evalue": "name 'DNNClassifier' is not defined",
     "output_type": "error",
     "traceback": [
      "\u001b[1;31m---------------------------------------------------------------------------\u001b[0m",
      "\u001b[1;31mNameError\u001b[0m                                 Traceback (most recent call last)",
      "\u001b[1;32m<ipython-input-34-75565432dc81>\u001b[0m in \u001b[0;36m<module>\u001b[1;34m()\u001b[0m\n\u001b[1;32m----> 1\u001b[1;33m \u001b[0mdnn_clf_5_to_9\u001b[0m \u001b[1;33m=\u001b[0m  \u001b[0mDNNClassifier\u001b[0m\u001b[1;33m(\u001b[0m\u001b[0mn_hidden_layers\u001b[0m\u001b[1;33m=\u001b[0m\u001b[1;36m4\u001b[0m\u001b[1;33m,\u001b[0m \u001b[0mrandom_state\u001b[0m\u001b[1;33m=\u001b[0m\u001b[1;36m42\u001b[0m\u001b[1;33m)\u001b[0m\u001b[1;33m\u001b[0m\u001b[0m\n\u001b[0m\u001b[0;32m      2\u001b[0m \u001b[0mdnn_clf_5_to_9\u001b[0m\u001b[1;33m.\u001b[0m\u001b[0mfit\u001b[0m\u001b[1;33m(\u001b[0m\u001b[0mX_train2\u001b[0m\u001b[1;33m,\u001b[0m \u001b[0my_train2\u001b[0m\u001b[1;33m,\u001b[0m \u001b[0mn_epochs\u001b[0m\u001b[1;33m=\u001b[0m\u001b[1;36m1000\u001b[0m\u001b[1;33m,\u001b[0m \u001b[0mX_valid\u001b[0m\u001b[1;33m=\u001b[0m\u001b[0mX_valid2\u001b[0m\u001b[1;33m,\u001b[0m \u001b[0my_valid\u001b[0m\u001b[1;33m=\u001b[0m\u001b[0my_valid2\u001b[0m\u001b[1;33m)\u001b[0m\u001b[1;33m\u001b[0m\u001b[0m\n",
      "\u001b[1;31mNameError\u001b[0m: name 'DNNClassifier' is not defined"
     ]
    }
   ],
   "source": [
    "dnn_clf_5_to_9 =  DNNClassifier(n_hidden_layers=4, random_state=42)\n",
    "dnn_clf_5_to_9.fit(X_train2, y_train2, n_epochs=1000, X_valid=X_valid2, y_valid=y_valid2)"
   ]
  },
  {
   "cell_type": "code",
   "execution_count": null,
   "metadata": {
    "collapsed": true
   },
   "outputs": [],
   "source": [
    "y_pred = dnn_clf_5_to_9.predict(X_test2)\n",
    "accuracy_score(y_test2, y_pred)"
   ]
  }
 ],
 "metadata": {
  "kernelspec": {
   "display_name": "Python 3",
   "language": "python",
   "name": "python3"
  },
  "language_info": {
   "codemirror_mode": {
    "name": "ipython",
    "version": 3
   },
   "file_extension": ".py",
   "mimetype": "text/x-python",
   "name": "python",
   "nbconvert_exporter": "python",
   "pygments_lexer": "ipython3",
   "version": "3.6.1"
  }
 },
 "nbformat": 4,
 "nbformat_minor": 1
}
