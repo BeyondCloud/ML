{
 "cells": [
  {
   "cell_type": "code",
   "execution_count": 1,
   "metadata": {
    "collapsed": true
   },
   "outputs": [],
   "source": [
    "%matplotlib inline\n",
    "import numpy as np\n",
    "import pandas as pd\n",
    "import tensorflow as tf\n",
    "from matplotlib import pyplot as plt\n",
    "\n",
    "from tensorflow.contrib import learn\n",
    "from sklearn.metrics import mean_squared_error\n",
    "\n",
    "from lstm import lstm_model\n",
    "from data_processing import generate_data #user module\n"
   ]
  },
  {
   "cell_type": "code",
   "execution_count": 2,
   "metadata": {
    "collapsed": true
   },
   "outputs": [],
   "source": [
    "LOG_DIR = './ops_logs/sin'\n",
    "INPUT_NODE = 3\n",
    "RNN_LAYERS = [{'num_units': 5}]\n",
    "DENSE_LAYERS = None #last layer of neurons before output\n",
    "TRAINING_STEPS = 10000\n",
    "PRINT_STEPS = TRAINING_STEPS / 10\n",
    "BATCH_SIZE = 100"
   ]
  },
  {
   "cell_type": "code",
   "execution_count": 3,
   "metadata": {},
   "outputs": [
    {
     "name": "stdout",
     "output_type": "stream",
     "text": [
      "INFO:tensorflow:Using default config.\n",
      "INFO:tensorflow:Using config: {'_task_type': None, '_task_id': 0, '_cluster_spec': <tensorflow.python.training.server_lib.ClusterSpec object at 0x00000000115D91D0>, '_master': '', '_num_ps_replicas': 0, '_num_worker_replicas': 0, '_environment': 'local', '_is_chief': True, '_evaluation_master': '', '_tf_config': gpu_options {\n",
      "  per_process_gpu_memory_fraction: 1\n",
      "}\n",
      ", '_tf_random_seed': None, '_save_summary_steps': 100, '_save_checkpoints_secs': 600, '_log_step_count_steps': 100, '_session_config': None, '_save_checkpoints_steps': None, '_keep_checkpoint_max': 5, '_keep_checkpoint_every_n_hours': 10000, '_model_dir': './ops_logs/sin'}\n"
     ]
    }
   ],
   "source": [
    "regressor = learn.SKCompat(learn.Estimator(\n",
    "    model_fn=lstm_model(\n",
    "        INPUT_NODE,\n",
    "        RNN_LAYERS,\n",
    "        DENSE_LAYERS\n",
    "    ),\n",
    "    model_dir=LOG_DIR\n",
    "))"
   ]
  },
  {
   "cell_type": "code",
   "execution_count": 4,
   "metadata": {},
   "outputs": [
    {
     "name": "stdout",
     "output_type": "stream",
     "text": [
      "(997, 3, 1)\n",
      "(997, 1)\n",
      "WARNING:tensorflow:From E:\\Anaconda\\lib\\site-packages\\tensorflow\\contrib\\learn\\python\\learn\\monitors.py:269: BaseMonitor.__init__ (from tensorflow.contrib.learn.python.learn.monitors) is deprecated and will be removed after 2016-12-05.\n",
      "Instructions for updating:\n",
      "Monitors are deprecated. Please use tf.train.SessionRunHook.\n",
      "WARNING:tensorflow:From E:\\Anaconda\\lib\\site-packages\\tensorflow\\contrib\\learn\\python\\learn\\models.py:107: mean_squared_error_regressor (from tensorflow.contrib.learn.python.learn.ops.losses_ops) is deprecated and will be removed after 2016-12-01.\n",
      "Instructions for updating:\n",
      "Use `tf.contrib.losses.mean_squared_error` and explicit logits computation.\n",
      "WARNING:tensorflow:From E:\\Anaconda\\lib\\site-packages\\tensorflow\\contrib\\learn\\python\\learn\\ops\\losses_ops.py:39: mean_squared_error (from tensorflow.contrib.losses.python.losses.loss_ops) is deprecated and will be removed after 2016-12-30.\n",
      "Instructions for updating:\n",
      "Use tf.losses.mean_squared_error instead.\n",
      "WARNING:tensorflow:From E:\\Anaconda\\lib\\site-packages\\tensorflow\\contrib\\losses\\python\\losses\\loss_ops.py:539: compute_weighted_loss (from tensorflow.contrib.losses.python.losses.loss_ops) is deprecated and will be removed after 2016-12-30.\n",
      "Instructions for updating:\n",
      "Use tf.losses.compute_weighted_loss instead.\n",
      "WARNING:tensorflow:From E:\\Anaconda\\lib\\site-packages\\tensorflow\\contrib\\losses\\python\\losses\\loss_ops.py:151: add_arg_scope.<locals>.func_with_args (from tensorflow.contrib.framework.python.ops.arg_scope) is deprecated and will be removed after 2016-12-30.\n",
      "Instructions for updating:\n",
      "Use tf.losses.add_loss instead.\n",
      "INFO:tensorflow:Create CheckpointSaverHook.\n",
      "INFO:tensorflow:Restoring parameters from ./ops_logs/sin\\model.ckpt-120005\n",
      "INFO:tensorflow:Saving checkpoints for 120006 into ./ops_logs/sin\\model.ckpt.\n",
      "WARNING:tensorflow:From E:\\Anaconda\\lib\\site-packages\\tensorflow\\contrib\\learn\\python\\learn\\monitors.py:672: calling BaseEstimator.evaluate (from tensorflow.contrib.learn.python.learn.estimators.estimator) with x is deprecated and will be removed after 2016-12-01.\n",
      "Instructions for updating:\n",
      "Estimator is decoupled from Scikit Learn interface by moving into\n",
      "separate class SKCompat. Arguments x, y and batch_size are only\n",
      "available in the SKCompat class, Estimator will only accept input_fn.\n",
      "Example conversion:\n",
      "  est = Estimator(...) -> est = SKCompat(Estimator(...))\n",
      "WARNING:tensorflow:From E:\\Anaconda\\lib\\site-packages\\tensorflow\\contrib\\learn\\python\\learn\\monitors.py:672: calling BaseEstimator.evaluate (from tensorflow.contrib.learn.python.learn.estimators.estimator) with y is deprecated and will be removed after 2016-12-01.\n",
      "Instructions for updating:\n",
      "Estimator is decoupled from Scikit Learn interface by moving into\n",
      "separate class SKCompat. Arguments x, y and batch_size are only\n",
      "available in the SKCompat class, Estimator will only accept input_fn.\n",
      "Example conversion:\n",
      "  est = Estimator(...) -> est = SKCompat(Estimator(...))\n",
      "WARNING:tensorflow:From E:\\Anaconda\\lib\\site-packages\\tensorflow\\contrib\\learn\\python\\learn\\models.py:107: mean_squared_error_regressor (from tensorflow.contrib.learn.python.learn.ops.losses_ops) is deprecated and will be removed after 2016-12-01.\n",
      "Instructions for updating:\n",
      "Use `tf.contrib.losses.mean_squared_error` and explicit logits computation.\n",
      "WARNING:tensorflow:From E:\\Anaconda\\lib\\site-packages\\tensorflow\\contrib\\learn\\python\\learn\\ops\\losses_ops.py:39: mean_squared_error (from tensorflow.contrib.losses.python.losses.loss_ops) is deprecated and will be removed after 2016-12-30.\n",
      "Instructions for updating:\n",
      "Use tf.losses.mean_squared_error instead.\n",
      "WARNING:tensorflow:From E:\\Anaconda\\lib\\site-packages\\tensorflow\\contrib\\losses\\python\\losses\\loss_ops.py:539: compute_weighted_loss (from tensorflow.contrib.losses.python.losses.loss_ops) is deprecated and will be removed after 2016-12-30.\n",
      "Instructions for updating:\n",
      "Use tf.losses.compute_weighted_loss instead.\n",
      "WARNING:tensorflow:From E:\\Anaconda\\lib\\site-packages\\tensorflow\\contrib\\losses\\python\\losses\\loss_ops.py:151: add_arg_scope.<locals>.func_with_args (from tensorflow.contrib.framework.python.ops.arg_scope) is deprecated and will be removed after 2016-12-30.\n",
      "Instructions for updating:\n",
      "Use tf.losses.add_loss instead.\n",
      "INFO:tensorflow:Starting evaluation at 2017-11-29-16:22:51\n",
      "INFO:tensorflow:Restoring parameters from ./ops_logs/sin\\model.ckpt-120006\n",
      "INFO:tensorflow:Finished evaluation at 2017-11-29-16:22:51\n",
      "INFO:tensorflow:Saving dict for global step 120006: global_step = 120006, loss = 5.76294e-05\n",
      "INFO:tensorflow:Validation (step 120006): loss = 5.76294e-05, global_step = 120006\n",
      "INFO:tensorflow:loss = 4.03057e-05, step = 120006\n",
      "INFO:tensorflow:global_step/sec: 32.4446\n",
      "INFO:tensorflow:loss = 4.72805e-05, step = 120106 (0.208 sec)\n",
      "INFO:tensorflow:global_step/sec: 598.767\n",
      "INFO:tensorflow:loss = 4.72866e-05, step = 120206 (0.167 sec)\n",
      "INFO:tensorflow:global_step/sec: 584.762\n",
      "INFO:tensorflow:loss = 5.9525e-05, step = 120306 (0.170 sec)\n",
      "INFO:tensorflow:global_step/sec: 591.682\n",
      "INFO:tensorflow:loss = 5.78669e-05, step = 120406 (0.169 sec)\n",
      "INFO:tensorflow:global_step/sec: 602.376\n",
      "INFO:tensorflow:loss = 5.04709e-05, step = 120506 (0.166 sec)\n",
      "INFO:tensorflow:global_step/sec: 584.761\n",
      "INFO:tensorflow:loss = 5.32034e-05, step = 120606 (0.171 sec)\n",
      "INFO:tensorflow:global_step/sec: 546.417\n",
      "INFO:tensorflow:loss = 6.57975e-05, step = 120706 (0.184 sec)\n",
      "INFO:tensorflow:global_step/sec: 578.001\n",
      "INFO:tensorflow:loss = 5.8436e-05, step = 120806 (0.173 sec)\n",
      "INFO:tensorflow:global_step/sec: 581.363\n",
      "INFO:tensorflow:loss = 5.28874e-05, step = 120906 (0.171 sec)\n",
      "INFO:tensorflow:global_step/sec: 609.721\n",
      "INFO:tensorflow:loss = 5.32512e-05, step = 121006 (0.169 sec)\n",
      "INFO:tensorflow:global_step/sec: 595.204\n",
      "INFO:tensorflow:loss = 4.93928e-05, step = 121106 (0.163 sec)\n",
      "INFO:tensorflow:global_step/sec: 502.483\n",
      "INFO:tensorflow:loss = 4.91602e-05, step = 121206 (0.206 sec)\n",
      "INFO:tensorflow:global_step/sec: 431.009\n",
      "INFO:tensorflow:loss = 5.06538e-05, step = 121306 (0.228 sec)\n",
      "INFO:tensorflow:global_step/sec: 480.742\n",
      "INFO:tensorflow:loss = 6.03314e-05, step = 121406 (0.212 sec)\n",
      "INFO:tensorflow:global_step/sec: 398.383\n",
      "INFO:tensorflow:loss = 4.94829e-05, step = 121506 (0.250 sec)\n",
      "INFO:tensorflow:global_step/sec: 432.876\n",
      "INFO:tensorflow:loss = 5.18354e-05, step = 121606 (0.224 sec)\n",
      "INFO:tensorflow:global_step/sec: 552.454\n",
      "INFO:tensorflow:loss = 5.73777e-05, step = 121706 (0.182 sec)\n",
      "INFO:tensorflow:global_step/sec: 312.482\n",
      "INFO:tensorflow:loss = 5.45273e-05, step = 121806 (0.329 sec)\n",
      "INFO:tensorflow:global_step/sec: 409.812\n",
      "INFO:tensorflow:loss = 4.95122e-05, step = 121906 (0.238 sec)\n",
      "INFO:tensorflow:global_step/sec: 213.663\n",
      "INFO:tensorflow:loss = 5.17469e-05, step = 122006 (0.550 sec)\n",
      "INFO:tensorflow:global_step/sec: 218.328\n",
      "INFO:tensorflow:loss = 6.01449e-05, step = 122106 (0.376 sec)\n",
      "INFO:tensorflow:global_step/sec: 624.964\n",
      "INFO:tensorflow:loss = 4.54621e-05, step = 122206 (0.157 sec)\n",
      "INFO:tensorflow:global_step/sec: 574.68\n",
      "INFO:tensorflow:loss = 5.07175e-05, step = 122306 (0.175 sec)\n",
      "INFO:tensorflow:global_step/sec: 666.628\n",
      "INFO:tensorflow:loss = 5.36687e-05, step = 122406 (0.149 sec)\n",
      "INFO:tensorflow:global_step/sec: 704.185\n",
      "INFO:tensorflow:loss = 5.07507e-05, step = 122506 (0.142 sec)\n",
      "INFO:tensorflow:global_step/sec: 680.233\n",
      "INFO:tensorflow:loss = 4.9044e-05, step = 122606 (0.146 sec)\n",
      "INFO:tensorflow:global_step/sec: 649.313\n",
      "INFO:tensorflow:loss = 5.74526e-05, step = 122706 (0.156 sec)\n",
      "INFO:tensorflow:global_step/sec: 694.405\n",
      "INFO:tensorflow:loss = 5.65303e-05, step = 122806 (0.143 sec)\n",
      "INFO:tensorflow:global_step/sec: 636.906\n",
      "INFO:tensorflow:loss = 4.77784e-05, step = 122906 (0.156 sec)\n",
      "INFO:tensorflow:global_step/sec: 609.721\n",
      "INFO:tensorflow:loss = 5.67591e-05, step = 123006 (0.176 sec)\n",
      "INFO:tensorflow:global_step/sec: 483.064\n",
      "INFO:tensorflow:loss = 5.99258e-05, step = 123106 (0.200 sec)\n",
      "INFO:tensorflow:global_step/sec: 537.604\n",
      "INFO:tensorflow:loss = 5.09114e-05, step = 123206 (0.184 sec)\n",
      "INFO:tensorflow:global_step/sec: 526.286\n",
      "INFO:tensorflow:loss = 4.81999e-05, step = 123306 (0.187 sec)\n",
      "INFO:tensorflow:global_step/sec: 581.362\n",
      "INFO:tensorflow:loss = 3.98043e-05, step = 123406 (0.175 sec)\n"
     ]
    },
    {
     "name": "stdout",
     "output_type": "stream",
     "text": [
      "INFO:tensorflow:global_step/sec: 478.441\n",
      "INFO:tensorflow:loss = 4.61578e-05, step = 123506 (0.213 sec)\n",
      "INFO:tensorflow:global_step/sec: 568.15\n",
      "INFO:tensorflow:loss = 4.78848e-05, step = 123606 (0.172 sec)\n",
      "INFO:tensorflow:global_step/sec: 624.963\n",
      "INFO:tensorflow:loss = 5.14091e-05, step = 123706 (0.161 sec)\n",
      "INFO:tensorflow:global_step/sec: 534.729\n",
      "INFO:tensorflow:loss = 4.91923e-05, step = 123806 (0.184 sec)\n",
      "INFO:tensorflow:global_step/sec: 640.989\n",
      "INFO:tensorflow:loss = 5.02466e-05, step = 123906 (0.156 sec)\n",
      "INFO:tensorflow:global_step/sec: 636.907\n",
      "INFO:tensorflow:loss = 5.27289e-05, step = 124006 (0.163 sec)\n",
      "INFO:tensorflow:global_step/sec: 584.762\n",
      "INFO:tensorflow:loss = 4.72228e-05, step = 124106 (0.168 sec)\n",
      "INFO:tensorflow:global_step/sec: 520.804\n",
      "INFO:tensorflow:loss = 4.75437e-05, step = 124206 (0.188 sec)\n",
      "INFO:tensorflow:global_step/sec: 602.375\n",
      "INFO:tensorflow:loss = 4.73581e-05, step = 124306 (0.167 sec)\n",
      "INFO:tensorflow:global_step/sec: 628.895\n",
      "INFO:tensorflow:loss = 5.37635e-05, step = 124406 (0.159 sec)\n",
      "INFO:tensorflow:global_step/sec: 624.963\n",
      "INFO:tensorflow:loss = 4.8927e-05, step = 124506 (0.163 sec)\n",
      "INFO:tensorflow:global_step/sec: 578.002\n",
      "INFO:tensorflow:loss = 5.58196e-05, step = 124606 (0.173 sec)\n",
      "INFO:tensorflow:global_step/sec: 543.447\n",
      "INFO:tensorflow:loss = 5.34464e-05, step = 124706 (0.181 sec)\n",
      "INFO:tensorflow:global_step/sec: 584.762\n",
      "INFO:tensorflow:loss = 4.2128e-05, step = 124806 (0.170 sec)\n",
      "INFO:tensorflow:global_step/sec: 497.484\n",
      "INFO:tensorflow:loss = 5.16397e-05, step = 124906 (0.208 sec)\n",
      "INFO:tensorflow:global_step/sec: 411.499\n",
      "INFO:tensorflow:loss = 3.72727e-05, step = 125006 (0.246 sec)\n",
      "INFO:tensorflow:global_step/sec: 487.777\n",
      "INFO:tensorflow:loss = 5.09245e-05, step = 125106 (0.196 sec)\n",
      "INFO:tensorflow:global_step/sec: 387.575\n",
      "INFO:tensorflow:loss = 5.30975e-05, step = 125206 (0.260 sec)\n",
      "INFO:tensorflow:global_step/sec: 540.509\n",
      "INFO:tensorflow:loss = 5.50743e-05, step = 125306 (0.186 sec)\n",
      "INFO:tensorflow:global_step/sec: 490.169\n",
      "INFO:tensorflow:loss = 4.89001e-05, step = 125406 (0.215 sec)\n",
      "INFO:tensorflow:global_step/sec: 322.562\n",
      "INFO:tensorflow:loss = 5.54247e-05, step = 125506 (0.298 sec)\n",
      "INFO:tensorflow:global_step/sec: 425.507\n",
      "INFO:tensorflow:loss = 4.92618e-05, step = 125606 (0.242 sec)\n",
      "INFO:tensorflow:global_step/sec: 432.876\n",
      "INFO:tensorflow:loss = 5.66246e-05, step = 125706 (0.226 sec)\n",
      "INFO:tensorflow:global_step/sec: 338.964\n",
      "INFO:tensorflow:loss = 5.47407e-05, step = 125806 (0.295 sec)\n",
      "INFO:tensorflow:global_step/sec: 331.107\n",
      "INFO:tensorflow:loss = 4.85158e-05, step = 125906 (0.303 sec)\n",
      "INFO:tensorflow:global_step/sec: 413.2\n",
      "INFO:tensorflow:loss = 5.28155e-05, step = 126006 (0.245 sec)\n",
      "INFO:tensorflow:global_step/sec: 418.386\n",
      "INFO:tensorflow:loss = 4.54792e-05, step = 126106 (0.238 sec)\n",
      "INFO:tensorflow:global_step/sec: 602.375\n",
      "INFO:tensorflow:loss = 5.55752e-05, step = 126206 (0.159 sec)\n",
      "INFO:tensorflow:global_step/sec: 689.616\n",
      "INFO:tensorflow:loss = 4.5779e-05, step = 126306 (0.145 sec)\n",
      "INFO:tensorflow:global_step/sec: 680.234\n",
      "INFO:tensorflow:loss = 4.40824e-05, step = 126406 (0.147 sec)\n",
      "INFO:tensorflow:global_step/sec: 578.002\n",
      "INFO:tensorflow:loss = 4.69911e-05, step = 126506 (0.173 sec)\n",
      "INFO:tensorflow:global_step/sec: 640.989\n",
      "INFO:tensorflow:loss = 4.82868e-05, step = 126606 (0.158 sec)\n",
      "INFO:tensorflow:global_step/sec: 628.894\n",
      "INFO:tensorflow:loss = 4.35638e-05, step = 126706 (0.157 sec)\n",
      "INFO:tensorflow:global_step/sec: 386.078\n",
      "INFO:tensorflow:loss = 4.88609e-05, step = 126806 (0.263 sec)\n",
      "INFO:tensorflow:global_step/sec: 331.107\n",
      "INFO:tensorflow:loss = 5.23004e-05, step = 126906 (0.301 sec)\n",
      "INFO:tensorflow:global_step/sec: 333.314\n",
      "INFO:tensorflow:loss = 5.10797e-05, step = 127006 (0.333 sec)\n",
      "INFO:tensorflow:global_step/sec: 338.964\n",
      "INFO:tensorflow:loss = 4.21414e-05, step = 127106 (0.263 sec)\n",
      "INFO:tensorflow:global_step/sec: 366.28\n",
      "INFO:tensorflow:loss = 4.56738e-05, step = 127206 (0.271 sec)\n",
      "INFO:tensorflow:global_step/sec: 318.453\n",
      "INFO:tensorflow:loss = 4.89477e-05, step = 127306 (0.315 sec)\n",
      "INFO:tensorflow:global_step/sec: 375.918\n",
      "INFO:tensorflow:loss = 4.25835e-05, step = 127406 (0.265 sec)\n",
      "INFO:tensorflow:global_step/sec: 606.026\n",
      "INFO:tensorflow:loss = 5.1757e-05, step = 127506 (0.163 sec)\n",
      "INFO:tensorflow:global_step/sec: 546.417\n",
      "INFO:tensorflow:loss = 3.74395e-05, step = 127606 (0.186 sec)\n",
      "INFO:tensorflow:global_step/sec: 363.616\n",
      "INFO:tensorflow:loss = 4.03824e-05, step = 127706 (0.278 sec)\n",
      "INFO:tensorflow:global_step/sec: 510.175\n",
      "INFO:tensorflow:loss = 4.84268e-05, step = 127806 (0.192 sec)\n",
      "INFO:tensorflow:global_step/sec: 640.989\n",
      "INFO:tensorflow:loss = 4.0935e-05, step = 127906 (0.157 sec)\n",
      "INFO:tensorflow:global_step/sec: 613.462\n",
      "INFO:tensorflow:loss = 4.00415e-05, step = 128006 (0.167 sec)\n",
      "INFO:tensorflow:global_step/sec: 617.248\n",
      "INFO:tensorflow:loss = 4.5258e-05, step = 128106 (0.158 sec)\n",
      "INFO:tensorflow:global_step/sec: 621.083\n",
      "INFO:tensorflow:loss = 4.5091e-05, step = 128206 (0.161 sec)\n",
      "INFO:tensorflow:global_step/sec: 628.895\n",
      "INFO:tensorflow:loss = 4.34753e-05, step = 128306 (0.155 sec)\n",
      "INFO:tensorflow:global_step/sec: 666.628\n",
      "INFO:tensorflow:loss = 4.21805e-05, step = 128406 (0.156 sec)\n",
      "INFO:tensorflow:global_step/sec: 375.918\n",
      "INFO:tensorflow:loss = 4.76797e-05, step = 128506 (0.267 sec)\n",
      "INFO:tensorflow:global_step/sec: 490.168\n",
      "INFO:tensorflow:loss = 3.86396e-05, step = 128606 (0.198 sec)\n",
      "INFO:tensorflow:global_step/sec: 694.405\n",
      "INFO:tensorflow:loss = 4.61978e-05, step = 128706 (0.143 sec)\n",
      "INFO:tensorflow:global_step/sec: 684.893\n",
      "INFO:tensorflow:loss = 3.86785e-05, step = 128806 (0.146 sec)\n",
      "INFO:tensorflow:global_step/sec: 684.892\n",
      "INFO:tensorflow:loss = 4.82505e-05, step = 128906 (0.147 sec)\n",
      "INFO:tensorflow:global_step/sec: 694.405\n",
      "INFO:tensorflow:loss = 4.46735e-05, step = 129006 (0.149 sec)\n",
      "INFO:tensorflow:global_step/sec: 387.574\n",
      "INFO:tensorflow:loss = 4.22986e-05, step = 129106 (0.258 sec)\n",
      "INFO:tensorflow:global_step/sec: 598.769\n",
      "INFO:tensorflow:loss = 3.96883e-05, step = 129206 (0.162 sec)\n",
      "INFO:tensorflow:global_step/sec: 694.404\n",
      "INFO:tensorflow:loss = 4.5407e-05, step = 129306 (0.143 sec)\n",
      "INFO:tensorflow:global_step/sec: 689.616\n",
      "INFO:tensorflow:loss = 4.52456e-05, step = 129406 (0.146 sec)\n",
      "INFO:tensorflow:global_step/sec: 694.405\n",
      "INFO:tensorflow:loss = 3.92992e-05, step = 129506 (0.143 sec)\n",
      "INFO:tensorflow:global_step/sec: 446.403\n",
      "INFO:tensorflow:loss = 4.34782e-05, step = 129606 (0.230 sec)\n",
      "INFO:tensorflow:global_step/sec: 531.885\n",
      "INFO:tensorflow:loss = 5.10645e-05, step = 129706 (0.183 sec)\n",
      "INFO:tensorflow:global_step/sec: 694.404\n",
      "INFO:tensorflow:loss = 4.69189e-05, step = 129806 (0.143 sec)\n",
      "INFO:tensorflow:global_step/sec: 675.638\n",
      "INFO:tensorflow:loss = 4.18901e-05, step = 129906 (0.148 sec)\n",
      "INFO:tensorflow:Saving checkpoints for 130005 into ./ops_logs/sin\\model.ckpt.\n",
      "INFO:tensorflow:Loss for final step: 4.05467e-05.\n"
     ]
    },
    {
     "data": {
      "text/plain": [
       "SKCompat()"
      ]
     },
     "execution_count": 4,
     "metadata": {},
     "output_type": "execute_result"
    }
   ],
   "source": [
    "\n",
    "#X ,y is both sin(t), X[0] = sin(t) ,X[1] = sin(t+1),X[1] = sin(t+1),\n",
    "X, y = generate_data(np.sin, np.linspace(0, 100, 10000, dtype=np.float32), INPUT_NODE, seperate=False)\n",
    "\n",
    "print(X['test'].shape)\n",
    "print(y['test'].shape)\n",
    "# create a lstm instance and validation monitor\n",
    "validation_monitor = learn.monitors.ValidationMonitor(X['val'], y['val'],\n",
    "                                                     every_n_steps=PRINT_STEPS,\n",
    "                                                     early_stopping_rounds=1000)\n",
    "regressor.fit(X['train'], y['train'], \n",
    "              monitors=[validation_monitor], \n",
    "              batch_size=BATCH_SIZE,\n",
    "              steps=TRAINING_STEPS)"
   ]
  },
  {
   "cell_type": "code",
   "execution_count": 5,
   "metadata": {},
   "outputs": [
    {
     "name": "stdout",
     "output_type": "stream",
     "text": [
      "WARNING:tensorflow:From E:\\Anaconda\\lib\\site-packages\\tensorflow\\contrib\\learn\\python\\learn\\models.py:107: mean_squared_error_regressor (from tensorflow.contrib.learn.python.learn.ops.losses_ops) is deprecated and will be removed after 2016-12-01.\n",
      "Instructions for updating:\n",
      "Use `tf.contrib.losses.mean_squared_error` and explicit logits computation.\n",
      "WARNING:tensorflow:From E:\\Anaconda\\lib\\site-packages\\tensorflow\\contrib\\learn\\python\\learn\\ops\\losses_ops.py:39: mean_squared_error (from tensorflow.contrib.losses.python.losses.loss_ops) is deprecated and will be removed after 2016-12-30.\n",
      "Instructions for updating:\n",
      "Use tf.losses.mean_squared_error instead.\n",
      "WARNING:tensorflow:From E:\\Anaconda\\lib\\site-packages\\tensorflow\\contrib\\losses\\python\\losses\\loss_ops.py:539: compute_weighted_loss (from tensorflow.contrib.losses.python.losses.loss_ops) is deprecated and will be removed after 2016-12-30.\n",
      "Instructions for updating:\n",
      "Use tf.losses.compute_weighted_loss instead.\n",
      "WARNING:tensorflow:From E:\\Anaconda\\lib\\site-packages\\tensorflow\\contrib\\losses\\python\\losses\\loss_ops.py:151: add_arg_scope.<locals>.func_with_args (from tensorflow.contrib.framework.python.ops.arg_scope) is deprecated and will be removed after 2016-12-30.\n",
      "Instructions for updating:\n",
      "Use tf.losses.add_loss instead.\n",
      "INFO:tensorflow:Restoring parameters from ./ops_logs/sin\\model.ckpt-130005\n",
      "MSE: 0.000035\n"
     ]
    }
   ],
   "source": [
    "predicted = regressor.predict(X['test'])\n",
    "rmse = np.sqrt(((predicted - y['test']) ** 2).mean(axis=0))\n",
    "score = mean_squared_error(predicted, y['test'])\n",
    "print (\"MSE: %f\" % score)"
   ]
  },
  {
   "cell_type": "code",
   "execution_count": 6,
   "metadata": {},
   "outputs": [
    {
     "data": {
      "text/plain": [
       "<matplotlib.legend.Legend at 0x1301d2b0>"
      ]
     },
     "execution_count": 6,
     "metadata": {},
     "output_type": "execute_result"
    },
    {
     "data": {
      "image/png": "[encoded data removed]",
      "text/plain": [
       "<matplotlib.figure.Figure at 0x115ccef0>"
      ]
     },
     "metadata": {},
     "output_type": "display_data"
    }
   ],
   "source": [
    "plot_predicted, = plt.plot(predicted, label='predicted')\n",
    "plot_test, = plt.plot(X['train'][0], label='test')\n",
    "plt.legend(handles=[plot_test])"
   ]
  },
  {
   "cell_type": "code",
   "execution_count": 7,
   "metadata": {},
   "outputs": [],
   "source": [
    "def get_X(input):\n",
    "    A = input[:-2]\n",
    "    B = input[1:-1]\n",
    "    C = input[2:]\n",
    "    return np.array([[A, B, C]]).T"
   ]
  },
  {
   "cell_type": "code",
   "execution_count": 8,
   "metadata": {},
   "outputs": [
    {
     "name": "stdout",
     "output_type": "stream",
     "text": [
      "[[ 1.74318624]\n",
      " [ 1.74117708]\n",
      " [ 1.73905957]]\n",
      "(1, 3, 1)\n"
     ]
    }
   ],
   "source": [
    "print(X['test'][0,0:3])\n",
    "gen_wav = np.zeros([1000,1],dtype = np.float32)\n",
    "gen_wav[0:3] = X['test'][0,0:3]\n",
    "foo = np.array([gen_wav[0:3]]).T\n",
    "print (foo.shape)"
   ]
  },
  {
   "cell_type": "code",
   "execution_count": 18,
   "metadata": {},
   "outputs": [
    {
     "name": "stdout",
     "output_type": "stream",
     "text": [
      "99\n",
      "WARNING:tensorflow:From E:\\Anaconda\\lib\\site-packages\\tensorflow\\contrib\\learn\\python\\learn\\models.py:107: mean_squared_error_regressor (from tensorflow.contrib.learn.python.learn.ops.losses_ops) is deprecated and will be removed after 2016-12-01.\n",
      "Instructions for updating:\n",
      "Use `tf.contrib.losses.mean_squared_error` and explicit logits computation.\n",
      "WARNING:tensorflow:From E:\\Anaconda\\lib\\site-packages\\tensorflow\\contrib\\learn\\python\\learn\\ops\\losses_ops.py:39: mean_squared_error (from tensorflow.contrib.losses.python.losses.loss_ops) is deprecated and will be removed after 2016-12-30.\n",
      "Instructions for updating:\n",
      "Use tf.losses.mean_squared_error instead.\n",
      "WARNING:tensorflow:From E:\\Anaconda\\lib\\site-packages\\tensorflow\\contrib\\losses\\python\\losses\\loss_ops.py:539: compute_weighted_loss (from tensorflow.contrib.losses.python.losses.loss_ops) is deprecated and will be removed after 2016-12-30.\n",
      "Instructions for updating:\n",
      "Use tf.losses.compute_weighted_loss instead.\n",
      "WARNING:tensorflow:From E:\\Anaconda\\lib\\site-packages\\tensorflow\\contrib\\losses\\python\\losses\\loss_ops.py:151: add_arg_scope.<locals>.func_with_args (from tensorflow.contrib.framework.python.ops.arg_scope) is deprecated and will be removed after 2016-12-30.\n",
      "Instructions for updating:\n",
      "Use tf.losses.add_loss instead.\n",
      "INFO:tensorflow:Restoring parameters from ./ops_logs/sin\\model.ckpt-130005\n"
     ]
    },
    {
     "data": {
      "text/plain": [
       "[<matplotlib.lines.Line2D at 0x14f5ee10>]"
      ]
     },
     "execution_count": 18,
     "metadata": {},
     "output_type": "execute_result"
    },
    {
     "data": {
      "image/png": "[encoded data removed]",
      "text/plain": [
       "<matplotlib.figure.Figure at 0x14cef400>"
      ]
     },
     "metadata": {},
     "output_type": "display_data"
    }
   ],
   "source": [
    "from IPython.display import clear_output\n",
    "gen_wav = np.zeros([1000,1])\n",
    "gen_wav[0:3] = np.array(X['test'][0,0:3])\n",
    "for i in range(3,100):\n",
    "    clear_output()\n",
    "    print(i)\n",
    "    gen_wav[i] = regressor.predict(np.float32( np.array([gen_wav[i-3:i]]).T));\n",
    "\n",
    "plt.plot(gen_wav)"
   ]
  },
  {
   "cell_type": "code",
   "execution_count": 10,
   "metadata": {},
   "outputs": [
    {
     "name": "stdout",
     "output_type": "stream",
     "text": [
      "[[ 1.74318624]\n",
      " [ 1.74117708]\n",
      " [ 1.73905957]\n",
      " [ 1.73923588]\n",
      " [ 1.73877907]\n",
      " [ 1.73844576]\n",
      " [ 1.73810482]\n",
      " [ 1.73777175]\n",
      " [ 1.73744559]\n",
      " [ 1.73712611]\n",
      " [ 1.73681331]\n",
      " [ 1.7365067 ]\n",
      " [ 1.73620653]\n",
      " [ 1.73591256]\n",
      " [ 1.73562431]\n",
      " [ 1.73534203]\n",
      " [ 1.73506546]\n",
      " [ 1.73479462]\n",
      " [ 1.73452902]\n",
      " [ 1.73426914]]\n"
     ]
    }
   ],
   "source": [
    "print(gen_wav[0:20])"
   ]
  },
  {
   "cell_type": "code",
   "execution_count": 11,
   "metadata": {},
   "outputs": [
    {
     "name": "stdout",
     "output_type": "stream",
     "text": [
      "(897, 3, 1)\n",
      "(897, 1)\n",
      "(997,)\n",
      "(1994,)\n"
     ]
    },
    {
     "data": {
      "text/plain": [
       "<matplotlib.legend.Legend at 0x13202748>"
      ]
     },
     "execution_count": 11,
     "metadata": {},
     "output_type": "execute_result"
    },
    {
     "data": {
      "image/png": "[encoded data removed]",
      "text/plain": [
       "<matplotlib.figure.Figure at 0x131d7588>"
      ]
     },
     "metadata": {},
     "output_type": "display_data"
    }
   ],
   "source": [
    "\n",
    "print(X['val'].shape)\n",
    "print(y['val'].shape)\n",
    "Xa = np.array(X['test'])\n",
    "ya = np.array(y['test'])\n",
    "print(predicted.shape)\n",
    "\n",
    "z = np.concatenate((Xa[:,0,0],predicted))\n",
    "print(z.shape)\n",
    "# plot_test, = plt.plot(Xa[:,0,0])\n",
    "plot_test, = plt.plot(z)\n",
    "\n",
    "plt.legend(handles=[plot_predicted])"
   ]
  },
  {
   "cell_type": "code",
   "execution_count": 12,
   "metadata": {},
   "outputs": [
    {
     "ename": "SyntaxError",
     "evalue": "invalid syntax (<ipython-input-12-d1ef172ead95>, line 1)",
     "output_type": "error",
     "traceback": [
      "\u001b[1;36m  File \u001b[1;32m\"<ipython-input-12-d1ef172ead95>\"\u001b[1;36m, line \u001b[1;32m1\u001b[0m\n\u001b[1;33m    pre =\u001b[0m\n\u001b[1;37m          ^\u001b[0m\n\u001b[1;31mSyntaxError\u001b[0m\u001b[1;31m:\u001b[0m invalid syntax\n"
     ]
    }
   ],
   "source": [
    "pre = "
   ]
  }
 ],
 "metadata": {
  "kernelspec": {
   "display_name": "Python 3",
   "language": "python",
   "name": "python3"
  },
  "language_info": {
   "codemirror_mode": {
    "name": "ipython",
    "version": 3
   },
   "file_extension": ".py",
   "mimetype": "text/x-python",
   "name": "python",
   "nbconvert_exporter": "python",
   "pygments_lexer": "ipython3",
   "version": "3.6.1"
  }
 },
 "nbformat": 4,
 "nbformat_minor": 1
}
